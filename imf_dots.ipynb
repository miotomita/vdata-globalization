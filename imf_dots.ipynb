{
  "nbformat": 4,
  "nbformat_minor": 0,
  "metadata": {
    "colab": {
      "provenance": [],
      "collapsed_sections": [],
      "toc_visible": true,
      "authorship_tag": "ABX9TyNc2STlJULWOs5fQ+zrdJo0",
      "include_colab_link": true
    },
    "kernelspec": {
      "name": "python3",
      "display_name": "Python 3"
    },
    "language_info": {
      "name": "python"
    }
  },
  "cells": [
    {
      "cell_type": "markdown",
      "metadata": {
        "id": "view-in-github",
        "colab_type": "text"
      },
      "source": [
        "<a href=\"https://colab.research.google.com/github/miotomita/vdata-globalization/blob/main/imf_dots.ipynb\" target=\"_parent\"><img src=\"https://colab.research.google.com/assets/colab-badge.svg\" alt=\"Open In Colab\"/></a>"
      ]
    },
    {
      "cell_type": "markdown",
      "source": [
        "IMF web service (documentation):<br>\n",
        "https://datahelp.imf.org/knowledgebase/articles/667681-using-json-restful-web-service<br>\n",
        "IMF DOTS:<br>\n",
        "https://data.imf.org/?sk=9D6028D4-F14A-464C-A2F2-59B2CD424B85"
      ],
      "metadata": {
        "id": "e2JNC2WJihwp"
      }
    },
    {
      "cell_type": "code",
      "source": [
        "#!pip install requests\n",
        "#!pip install pandas\n",
        "!pip install xlrd -U"
      ],
      "metadata": {
        "id": "kX8rmqN1u5xy",
        "colab": {
          "base_uri": "https://localhost:8080/"
        },
        "outputId": "25a078e8-ae08-4b0e-8e42-67a97394988e"
      },
      "execution_count": 1,
      "outputs": [
        {
          "output_type": "stream",
          "name": "stdout",
          "text": [
            "Looking in indexes: https://pypi.org/simple, https://us-python.pkg.dev/colab-wheels/public/simple/\n",
            "Requirement already satisfied: xlrd in /usr/local/lib/python3.7/dist-packages (2.0.1)\n"
          ]
        }
      ]
    },
    {
      "cell_type": "code",
      "execution_count": 2,
      "metadata": {
        "id": "4XHGrOv6uywP"
      },
      "outputs": [],
      "source": [
        "import requests\n",
        "import json\n",
        "import pandas as pd\n",
        "import numpy as np\n",
        "import time\n",
        "import itertools"
      ]
    },
    {
      "cell_type": "code",
      "source": [
        "pd.set_option(\"display.precision\", 8)"
      ],
      "metadata": {
        "id": "8Vj8bVxSvxFS"
      },
      "execution_count": 3,
      "outputs": []
    },
    {
      "cell_type": "markdown",
      "source": [
        "# data structures"
      ],
      "metadata": {
        "id": "nm8JCMx0ivG0"
      }
    },
    {
      "cell_type": "code",
      "source": [
        "id = 'DOT'"
      ],
      "metadata": {
        "id": "U5UO2HbEKwoX"
      },
      "execution_count": 4,
      "outputs": []
    },
    {
      "cell_type": "code",
      "source": [
        "#data structure\n",
        "url = f'http://dataservices.imf.org/REST/SDMX_JSON.svc/DataStructure/{id}'\n",
        "r = requests.get(url)\n",
        "\n",
        "structure = r.json()"
      ],
      "metadata": {
        "id": "GssxPKzPKsq3"
      },
      "execution_count": 5,
      "outputs": []
    },
    {
      "cell_type": "code",
      "source": [
        "codes = pd.DataFrame(structure['Structure']['CodeLists']['CodeList'])\n",
        "codes"
      ],
      "metadata": {
        "colab": {
          "base_uri": "https://localhost:8080/",
          "height": 579
        },
        "id": "TwU1_5gyLkCV",
        "outputId": "8e2f1488-e50b-4858-e24a-f8fd5a4d8107"
      },
      "execution_count": 6,
      "outputs": [
        {
          "output_type": "execute_result",
          "data": {
            "text/plain": [
              "                       @id @agencyID @version @isFinal  \\\n",
              "0             CL_UNIT_MULT       IMF      1.0     true   \n",
              "1                  CL_FREQ       IMF      1.0     true   \n",
              "2              CL_AREA_DOT       IMF      1.0     true   \n",
              "3         CL_INDICATOR_DOT       IMF      1.0     true   \n",
              "4  CL_COUNTERPART_AREA_DOT       IMF      1.0     true   \n",
              "5           CL_TIME_FORMAT       IMF      1.0     true   \n",
              "\n",
              "                                              @xmlns  \\\n",
              "0  http://www.SDMX.org/resources/SDMXML/schemas/v...   \n",
              "1  http://www.SDMX.org/resources/SDMXML/schemas/v...   \n",
              "2  http://www.SDMX.org/resources/SDMXML/schemas/v...   \n",
              "3  http://www.SDMX.org/resources/SDMXML/schemas/v...   \n",
              "4  http://www.SDMX.org/resources/SDMXML/schemas/v...   \n",
              "5  http://www.SDMX.org/resources/SDMXML/schemas/v...   \n",
              "\n",
              "                                                Name  \\\n",
              "0              {'@xml:lang': 'en', '#text': 'Scale'}   \n",
              "1          {'@xml:lang': 'en', '#text': 'Frequency'}   \n",
              "2  {'@xml:lang': 'en', '#text': 'Geographical Are...   \n",
              "3          {'@xml:lang': 'en', '#text': 'Indicator'}   \n",
              "4  {'@xml:lang': 'en', '#text': 'Counterpart Geog...   \n",
              "5        {'@xml:lang': 'en', '#text': 'Time format'}   \n",
              "\n",
              "                                                Code  \\\n",
              "0  [{'@value': '0', 'Description': {'@xml:lang': ...   \n",
              "1  [{'@value': 'A', 'Description': {'@xml:lang': ...   \n",
              "2  [{'@value': 'AF', 'Description': {'@xml:lang':...   \n",
              "3  [{'@value': 'TXG_FOB_USD', 'Description': {'@x...   \n",
              "4  [{'@value': 'AF', 'Description': {'@xml:lang':...   \n",
              "5  [{'@value': 'P1Y', 'Description': {'@xml:lang'...   \n",
              "\n",
              "                                         Description  \n",
              "0                                                NaN  \n",
              "1          {'@xml:lang': 'en', '#text': 'Frequency'}  \n",
              "2                                                NaN  \n",
              "3                                                NaN  \n",
              "4                                                NaN  \n",
              "5  {'@xml:lang': 'en', '#text': 'Time formats bas...  "
            ],
            "text/html": [
              "\n",
              "  <div id=\"df-2262acf4-cb78-4db6-92a3-5360eeabeaf7\">\n",
              "    <div class=\"colab-df-container\">\n",
              "      <div>\n",
              "<style scoped>\n",
              "    .dataframe tbody tr th:only-of-type {\n",
              "        vertical-align: middle;\n",
              "    }\n",
              "\n",
              "    .dataframe tbody tr th {\n",
              "        vertical-align: top;\n",
              "    }\n",
              "\n",
              "    .dataframe thead th {\n",
              "        text-align: right;\n",
              "    }\n",
              "</style>\n",
              "<table border=\"1\" class=\"dataframe\">\n",
              "  <thead>\n",
              "    <tr style=\"text-align: right;\">\n",
              "      <th></th>\n",
              "      <th>@id</th>\n",
              "      <th>@agencyID</th>\n",
              "      <th>@version</th>\n",
              "      <th>@isFinal</th>\n",
              "      <th>@xmlns</th>\n",
              "      <th>Name</th>\n",
              "      <th>Code</th>\n",
              "      <th>Description</th>\n",
              "    </tr>\n",
              "  </thead>\n",
              "  <tbody>\n",
              "    <tr>\n",
              "      <th>0</th>\n",
              "      <td>CL_UNIT_MULT</td>\n",
              "      <td>IMF</td>\n",
              "      <td>1.0</td>\n",
              "      <td>true</td>\n",
              "      <td>http://www.SDMX.org/resources/SDMXML/schemas/v...</td>\n",
              "      <td>{'@xml:lang': 'en', '#text': 'Scale'}</td>\n",
              "      <td>[{'@value': '0', 'Description': {'@xml:lang': ...</td>\n",
              "      <td>NaN</td>\n",
              "    </tr>\n",
              "    <tr>\n",
              "      <th>1</th>\n",
              "      <td>CL_FREQ</td>\n",
              "      <td>IMF</td>\n",
              "      <td>1.0</td>\n",
              "      <td>true</td>\n",
              "      <td>http://www.SDMX.org/resources/SDMXML/schemas/v...</td>\n",
              "      <td>{'@xml:lang': 'en', '#text': 'Frequency'}</td>\n",
              "      <td>[{'@value': 'A', 'Description': {'@xml:lang': ...</td>\n",
              "      <td>{'@xml:lang': 'en', '#text': 'Frequency'}</td>\n",
              "    </tr>\n",
              "    <tr>\n",
              "      <th>2</th>\n",
              "      <td>CL_AREA_DOT</td>\n",
              "      <td>IMF</td>\n",
              "      <td>1.0</td>\n",
              "      <td>true</td>\n",
              "      <td>http://www.SDMX.org/resources/SDMXML/schemas/v...</td>\n",
              "      <td>{'@xml:lang': 'en', '#text': 'Geographical Are...</td>\n",
              "      <td>[{'@value': 'AF', 'Description': {'@xml:lang':...</td>\n",
              "      <td>NaN</td>\n",
              "    </tr>\n",
              "    <tr>\n",
              "      <th>3</th>\n",
              "      <td>CL_INDICATOR_DOT</td>\n",
              "      <td>IMF</td>\n",
              "      <td>1.0</td>\n",
              "      <td>true</td>\n",
              "      <td>http://www.SDMX.org/resources/SDMXML/schemas/v...</td>\n",
              "      <td>{'@xml:lang': 'en', '#text': 'Indicator'}</td>\n",
              "      <td>[{'@value': 'TXG_FOB_USD', 'Description': {'@x...</td>\n",
              "      <td>NaN</td>\n",
              "    </tr>\n",
              "    <tr>\n",
              "      <th>4</th>\n",
              "      <td>CL_COUNTERPART_AREA_DOT</td>\n",
              "      <td>IMF</td>\n",
              "      <td>1.0</td>\n",
              "      <td>true</td>\n",
              "      <td>http://www.SDMX.org/resources/SDMXML/schemas/v...</td>\n",
              "      <td>{'@xml:lang': 'en', '#text': 'Counterpart Geog...</td>\n",
              "      <td>[{'@value': 'AF', 'Description': {'@xml:lang':...</td>\n",
              "      <td>NaN</td>\n",
              "    </tr>\n",
              "    <tr>\n",
              "      <th>5</th>\n",
              "      <td>CL_TIME_FORMAT</td>\n",
              "      <td>IMF</td>\n",
              "      <td>1.0</td>\n",
              "      <td>true</td>\n",
              "      <td>http://www.SDMX.org/resources/SDMXML/schemas/v...</td>\n",
              "      <td>{'@xml:lang': 'en', '#text': 'Time format'}</td>\n",
              "      <td>[{'@value': 'P1Y', 'Description': {'@xml:lang'...</td>\n",
              "      <td>{'@xml:lang': 'en', '#text': 'Time formats bas...</td>\n",
              "    </tr>\n",
              "  </tbody>\n",
              "</table>\n",
              "</div>\n",
              "      <button class=\"colab-df-convert\" onclick=\"convertToInteractive('df-2262acf4-cb78-4db6-92a3-5360eeabeaf7')\"\n",
              "              title=\"Convert this dataframe to an interactive table.\"\n",
              "              style=\"display:none;\">\n",
              "        \n",
              "  <svg xmlns=\"http://www.w3.org/2000/svg\" height=\"24px\"viewBox=\"0 0 24 24\"\n",
              "       width=\"24px\">\n",
              "    <path d=\"M0 0h24v24H0V0z\" fill=\"none\"/>\n",
              "    <path d=\"M18.56 5.44l.94 2.06.94-2.06 2.06-.94-2.06-.94-.94-2.06-.94 2.06-2.06.94zm-11 1L8.5 8.5l.94-2.06 2.06-.94-2.06-.94L8.5 2.5l-.94 2.06-2.06.94zm10 10l.94 2.06.94-2.06 2.06-.94-2.06-.94-.94-2.06-.94 2.06-2.06.94z\"/><path d=\"M17.41 7.96l-1.37-1.37c-.4-.4-.92-.59-1.43-.59-.52 0-1.04.2-1.43.59L10.3 9.45l-7.72 7.72c-.78.78-.78 2.05 0 2.83L4 21.41c.39.39.9.59 1.41.59.51 0 1.02-.2 1.41-.59l7.78-7.78 2.81-2.81c.8-.78.8-2.07 0-2.86zM5.41 20L4 18.59l7.72-7.72 1.47 1.35L5.41 20z\"/>\n",
              "  </svg>\n",
              "      </button>\n",
              "      \n",
              "  <style>\n",
              "    .colab-df-container {\n",
              "      display:flex;\n",
              "      flex-wrap:wrap;\n",
              "      gap: 12px;\n",
              "    }\n",
              "\n",
              "    .colab-df-convert {\n",
              "      background-color: #E8F0FE;\n",
              "      border: none;\n",
              "      border-radius: 50%;\n",
              "      cursor: pointer;\n",
              "      display: none;\n",
              "      fill: #1967D2;\n",
              "      height: 32px;\n",
              "      padding: 0 0 0 0;\n",
              "      width: 32px;\n",
              "    }\n",
              "\n",
              "    .colab-df-convert:hover {\n",
              "      background-color: #E2EBFA;\n",
              "      box-shadow: 0px 1px 2px rgba(60, 64, 67, 0.3), 0px 1px 3px 1px rgba(60, 64, 67, 0.15);\n",
              "      fill: #174EA6;\n",
              "    }\n",
              "\n",
              "    [theme=dark] .colab-df-convert {\n",
              "      background-color: #3B4455;\n",
              "      fill: #D2E3FC;\n",
              "    }\n",
              "\n",
              "    [theme=dark] .colab-df-convert:hover {\n",
              "      background-color: #434B5C;\n",
              "      box-shadow: 0px 1px 3px 1px rgba(0, 0, 0, 0.15);\n",
              "      filter: drop-shadow(0px 1px 2px rgba(0, 0, 0, 0.3));\n",
              "      fill: #FFFFFF;\n",
              "    }\n",
              "  </style>\n",
              "\n",
              "      <script>\n",
              "        const buttonEl =\n",
              "          document.querySelector('#df-2262acf4-cb78-4db6-92a3-5360eeabeaf7 button.colab-df-convert');\n",
              "        buttonEl.style.display =\n",
              "          google.colab.kernel.accessAllowed ? 'block' : 'none';\n",
              "\n",
              "        async function convertToInteractive(key) {\n",
              "          const element = document.querySelector('#df-2262acf4-cb78-4db6-92a3-5360eeabeaf7');\n",
              "          const dataTable =\n",
              "            await google.colab.kernel.invokeFunction('convertToInteractive',\n",
              "                                                     [key], {});\n",
              "          if (!dataTable) return;\n",
              "\n",
              "          const docLinkHtml = 'Like what you see? Visit the ' +\n",
              "            '<a target=\"_blank\" href=https://colab.research.google.com/notebooks/data_table.ipynb>data table notebook</a>'\n",
              "            + ' to learn more about interactive tables.';\n",
              "          element.innerHTML = '';\n",
              "          dataTable['output_type'] = 'display_data';\n",
              "          await google.colab.output.renderOutput(dataTable, element);\n",
              "          const docLink = document.createElement('div');\n",
              "          docLink.innerHTML = docLinkHtml;\n",
              "          element.appendChild(docLink);\n",
              "        }\n",
              "      </script>\n",
              "    </div>\n",
              "  </div>\n",
              "  "
            ]
          },
          "metadata": {},
          "execution_count": 6
        }
      ]
    },
    {
      "cell_type": "markdown",
      "source": [
        "indicators"
      ],
      "metadata": {
        "id": "nhJdeS8zCRzb"
      }
    },
    {
      "cell_type": "code",
      "source": [
        "#indicators\n",
        "pd.json_normalize(codes.Code[3])"
      ],
      "metadata": {
        "colab": {
          "base_uri": "https://localhost:8080/",
          "height": 175
        },
        "id": "08nRE1z2LpWd",
        "outputId": "edf46bba-96e4-447a-ca43-bd4c3a3326fd"
      },
      "execution_count": 7,
      "outputs": [
        {
          "output_type": "execute_result",
          "data": {
            "text/plain": [
              "        @value Description.@xml:lang  \\\n",
              "0  TXG_FOB_USD                    en   \n",
              "1  TMG_CIF_USD                    en   \n",
              "2  TMG_FOB_USD                    en   \n",
              "3      TBG_USD                    en   \n",
              "\n",
              "                                   Description.#text  \n",
              "0  Goods, Value of Exports, Free on board (FOB), ...  \n",
              "1  Goods, Value of Imports, Cost, Insurance, Frei...  \n",
              "2  Goods, Value of Imports, Free on board (FOB), ...  \n",
              "3          Goods, Value of Trade Balance, US Dollars  "
            ],
            "text/html": [
              "\n",
              "  <div id=\"df-1aaa245e-d475-48f1-83c9-eab5f36cb401\">\n",
              "    <div class=\"colab-df-container\">\n",
              "      <div>\n",
              "<style scoped>\n",
              "    .dataframe tbody tr th:only-of-type {\n",
              "        vertical-align: middle;\n",
              "    }\n",
              "\n",
              "    .dataframe tbody tr th {\n",
              "        vertical-align: top;\n",
              "    }\n",
              "\n",
              "    .dataframe thead th {\n",
              "        text-align: right;\n",
              "    }\n",
              "</style>\n",
              "<table border=\"1\" class=\"dataframe\">\n",
              "  <thead>\n",
              "    <tr style=\"text-align: right;\">\n",
              "      <th></th>\n",
              "      <th>@value</th>\n",
              "      <th>Description.@xml:lang</th>\n",
              "      <th>Description.#text</th>\n",
              "    </tr>\n",
              "  </thead>\n",
              "  <tbody>\n",
              "    <tr>\n",
              "      <th>0</th>\n",
              "      <td>TXG_FOB_USD</td>\n",
              "      <td>en</td>\n",
              "      <td>Goods, Value of Exports, Free on board (FOB), ...</td>\n",
              "    </tr>\n",
              "    <tr>\n",
              "      <th>1</th>\n",
              "      <td>TMG_CIF_USD</td>\n",
              "      <td>en</td>\n",
              "      <td>Goods, Value of Imports, Cost, Insurance, Frei...</td>\n",
              "    </tr>\n",
              "    <tr>\n",
              "      <th>2</th>\n",
              "      <td>TMG_FOB_USD</td>\n",
              "      <td>en</td>\n",
              "      <td>Goods, Value of Imports, Free on board (FOB), ...</td>\n",
              "    </tr>\n",
              "    <tr>\n",
              "      <th>3</th>\n",
              "      <td>TBG_USD</td>\n",
              "      <td>en</td>\n",
              "      <td>Goods, Value of Trade Balance, US Dollars</td>\n",
              "    </tr>\n",
              "  </tbody>\n",
              "</table>\n",
              "</div>\n",
              "      <button class=\"colab-df-convert\" onclick=\"convertToInteractive('df-1aaa245e-d475-48f1-83c9-eab5f36cb401')\"\n",
              "              title=\"Convert this dataframe to an interactive table.\"\n",
              "              style=\"display:none;\">\n",
              "        \n",
              "  <svg xmlns=\"http://www.w3.org/2000/svg\" height=\"24px\"viewBox=\"0 0 24 24\"\n",
              "       width=\"24px\">\n",
              "    <path d=\"M0 0h24v24H0V0z\" fill=\"none\"/>\n",
              "    <path d=\"M18.56 5.44l.94 2.06.94-2.06 2.06-.94-2.06-.94-.94-2.06-.94 2.06-2.06.94zm-11 1L8.5 8.5l.94-2.06 2.06-.94-2.06-.94L8.5 2.5l-.94 2.06-2.06.94zm10 10l.94 2.06.94-2.06 2.06-.94-2.06-.94-.94-2.06-.94 2.06-2.06.94z\"/><path d=\"M17.41 7.96l-1.37-1.37c-.4-.4-.92-.59-1.43-.59-.52 0-1.04.2-1.43.59L10.3 9.45l-7.72 7.72c-.78.78-.78 2.05 0 2.83L4 21.41c.39.39.9.59 1.41.59.51 0 1.02-.2 1.41-.59l7.78-7.78 2.81-2.81c.8-.78.8-2.07 0-2.86zM5.41 20L4 18.59l7.72-7.72 1.47 1.35L5.41 20z\"/>\n",
              "  </svg>\n",
              "      </button>\n",
              "      \n",
              "  <style>\n",
              "    .colab-df-container {\n",
              "      display:flex;\n",
              "      flex-wrap:wrap;\n",
              "      gap: 12px;\n",
              "    }\n",
              "\n",
              "    .colab-df-convert {\n",
              "      background-color: #E8F0FE;\n",
              "      border: none;\n",
              "      border-radius: 50%;\n",
              "      cursor: pointer;\n",
              "      display: none;\n",
              "      fill: #1967D2;\n",
              "      height: 32px;\n",
              "      padding: 0 0 0 0;\n",
              "      width: 32px;\n",
              "    }\n",
              "\n",
              "    .colab-df-convert:hover {\n",
              "      background-color: #E2EBFA;\n",
              "      box-shadow: 0px 1px 2px rgba(60, 64, 67, 0.3), 0px 1px 3px 1px rgba(60, 64, 67, 0.15);\n",
              "      fill: #174EA6;\n",
              "    }\n",
              "\n",
              "    [theme=dark] .colab-df-convert {\n",
              "      background-color: #3B4455;\n",
              "      fill: #D2E3FC;\n",
              "    }\n",
              "\n",
              "    [theme=dark] .colab-df-convert:hover {\n",
              "      background-color: #434B5C;\n",
              "      box-shadow: 0px 1px 3px 1px rgba(0, 0, 0, 0.15);\n",
              "      filter: drop-shadow(0px 1px 2px rgba(0, 0, 0, 0.3));\n",
              "      fill: #FFFFFF;\n",
              "    }\n",
              "  </style>\n",
              "\n",
              "      <script>\n",
              "        const buttonEl =\n",
              "          document.querySelector('#df-1aaa245e-d475-48f1-83c9-eab5f36cb401 button.colab-df-convert');\n",
              "        buttonEl.style.display =\n",
              "          google.colab.kernel.accessAllowed ? 'block' : 'none';\n",
              "\n",
              "        async function convertToInteractive(key) {\n",
              "          const element = document.querySelector('#df-1aaa245e-d475-48f1-83c9-eab5f36cb401');\n",
              "          const dataTable =\n",
              "            await google.colab.kernel.invokeFunction('convertToInteractive',\n",
              "                                                     [key], {});\n",
              "          if (!dataTable) return;\n",
              "\n",
              "          const docLinkHtml = 'Like what you see? Visit the ' +\n",
              "            '<a target=\"_blank\" href=https://colab.research.google.com/notebooks/data_table.ipynb>data table notebook</a>'\n",
              "            + ' to learn more about interactive tables.';\n",
              "          element.innerHTML = '';\n",
              "          dataTable['output_type'] = 'display_data';\n",
              "          await google.colab.output.renderOutput(dataTable, element);\n",
              "          const docLink = document.createElement('div');\n",
              "          docLink.innerHTML = docLinkHtml;\n",
              "          element.appendChild(docLink);\n",
              "        }\n",
              "      </script>\n",
              "    </div>\n",
              "  </div>\n",
              "  "
            ]
          },
          "metadata": {},
          "execution_count": 7
        }
      ]
    },
    {
      "cell_type": "code",
      "source": [
        "#unit\n",
        "pd.json_normalize(codes.Code[0]).head()"
      ],
      "metadata": {
        "colab": {
          "base_uri": "https://localhost:8080/",
          "height": 206
        },
        "id": "nNMQTkO0CWHJ",
        "outputId": "f0d40fd2-4ca8-49bd-b623-07b0a3b09267"
      },
      "execution_count": 8,
      "outputs": [
        {
          "output_type": "execute_result",
          "data": {
            "text/plain": [
              "  @value Description.@xml:lang Description.#text\n",
              "0      0                    en             Units\n",
              "1      2                    en          Hundreds\n",
              "2      3                    en         Thousands\n",
              "3      6                    en          Millions\n",
              "4      9                    en          Billions"
            ],
            "text/html": [
              "\n",
              "  <div id=\"df-18ba6a13-1653-4c18-8aec-505bfd910c3e\">\n",
              "    <div class=\"colab-df-container\">\n",
              "      <div>\n",
              "<style scoped>\n",
              "    .dataframe tbody tr th:only-of-type {\n",
              "        vertical-align: middle;\n",
              "    }\n",
              "\n",
              "    .dataframe tbody tr th {\n",
              "        vertical-align: top;\n",
              "    }\n",
              "\n",
              "    .dataframe thead th {\n",
              "        text-align: right;\n",
              "    }\n",
              "</style>\n",
              "<table border=\"1\" class=\"dataframe\">\n",
              "  <thead>\n",
              "    <tr style=\"text-align: right;\">\n",
              "      <th></th>\n",
              "      <th>@value</th>\n",
              "      <th>Description.@xml:lang</th>\n",
              "      <th>Description.#text</th>\n",
              "    </tr>\n",
              "  </thead>\n",
              "  <tbody>\n",
              "    <tr>\n",
              "      <th>0</th>\n",
              "      <td>0</td>\n",
              "      <td>en</td>\n",
              "      <td>Units</td>\n",
              "    </tr>\n",
              "    <tr>\n",
              "      <th>1</th>\n",
              "      <td>2</td>\n",
              "      <td>en</td>\n",
              "      <td>Hundreds</td>\n",
              "    </tr>\n",
              "    <tr>\n",
              "      <th>2</th>\n",
              "      <td>3</td>\n",
              "      <td>en</td>\n",
              "      <td>Thousands</td>\n",
              "    </tr>\n",
              "    <tr>\n",
              "      <th>3</th>\n",
              "      <td>6</td>\n",
              "      <td>en</td>\n",
              "      <td>Millions</td>\n",
              "    </tr>\n",
              "    <tr>\n",
              "      <th>4</th>\n",
              "      <td>9</td>\n",
              "      <td>en</td>\n",
              "      <td>Billions</td>\n",
              "    </tr>\n",
              "  </tbody>\n",
              "</table>\n",
              "</div>\n",
              "      <button class=\"colab-df-convert\" onclick=\"convertToInteractive('df-18ba6a13-1653-4c18-8aec-505bfd910c3e')\"\n",
              "              title=\"Convert this dataframe to an interactive table.\"\n",
              "              style=\"display:none;\">\n",
              "        \n",
              "  <svg xmlns=\"http://www.w3.org/2000/svg\" height=\"24px\"viewBox=\"0 0 24 24\"\n",
              "       width=\"24px\">\n",
              "    <path d=\"M0 0h24v24H0V0z\" fill=\"none\"/>\n",
              "    <path d=\"M18.56 5.44l.94 2.06.94-2.06 2.06-.94-2.06-.94-.94-2.06-.94 2.06-2.06.94zm-11 1L8.5 8.5l.94-2.06 2.06-.94-2.06-.94L8.5 2.5l-.94 2.06-2.06.94zm10 10l.94 2.06.94-2.06 2.06-.94-2.06-.94-.94-2.06-.94 2.06-2.06.94z\"/><path d=\"M17.41 7.96l-1.37-1.37c-.4-.4-.92-.59-1.43-.59-.52 0-1.04.2-1.43.59L10.3 9.45l-7.72 7.72c-.78.78-.78 2.05 0 2.83L4 21.41c.39.39.9.59 1.41.59.51 0 1.02-.2 1.41-.59l7.78-7.78 2.81-2.81c.8-.78.8-2.07 0-2.86zM5.41 20L4 18.59l7.72-7.72 1.47 1.35L5.41 20z\"/>\n",
              "  </svg>\n",
              "      </button>\n",
              "      \n",
              "  <style>\n",
              "    .colab-df-container {\n",
              "      display:flex;\n",
              "      flex-wrap:wrap;\n",
              "      gap: 12px;\n",
              "    }\n",
              "\n",
              "    .colab-df-convert {\n",
              "      background-color: #E8F0FE;\n",
              "      border: none;\n",
              "      border-radius: 50%;\n",
              "      cursor: pointer;\n",
              "      display: none;\n",
              "      fill: #1967D2;\n",
              "      height: 32px;\n",
              "      padding: 0 0 0 0;\n",
              "      width: 32px;\n",
              "    }\n",
              "\n",
              "    .colab-df-convert:hover {\n",
              "      background-color: #E2EBFA;\n",
              "      box-shadow: 0px 1px 2px rgba(60, 64, 67, 0.3), 0px 1px 3px 1px rgba(60, 64, 67, 0.15);\n",
              "      fill: #174EA6;\n",
              "    }\n",
              "\n",
              "    [theme=dark] .colab-df-convert {\n",
              "      background-color: #3B4455;\n",
              "      fill: #D2E3FC;\n",
              "    }\n",
              "\n",
              "    [theme=dark] .colab-df-convert:hover {\n",
              "      background-color: #434B5C;\n",
              "      box-shadow: 0px 1px 3px 1px rgba(0, 0, 0, 0.15);\n",
              "      filter: drop-shadow(0px 1px 2px rgba(0, 0, 0, 0.3));\n",
              "      fill: #FFFFFF;\n",
              "    }\n",
              "  </style>\n",
              "\n",
              "      <script>\n",
              "        const buttonEl =\n",
              "          document.querySelector('#df-18ba6a13-1653-4c18-8aec-505bfd910c3e button.colab-df-convert');\n",
              "        buttonEl.style.display =\n",
              "          google.colab.kernel.accessAllowed ? 'block' : 'none';\n",
              "\n",
              "        async function convertToInteractive(key) {\n",
              "          const element = document.querySelector('#df-18ba6a13-1653-4c18-8aec-505bfd910c3e');\n",
              "          const dataTable =\n",
              "            await google.colab.kernel.invokeFunction('convertToInteractive',\n",
              "                                                     [key], {});\n",
              "          if (!dataTable) return;\n",
              "\n",
              "          const docLinkHtml = 'Like what you see? Visit the ' +\n",
              "            '<a target=\"_blank\" href=https://colab.research.google.com/notebooks/data_table.ipynb>data table notebook</a>'\n",
              "            + ' to learn more about interactive tables.';\n",
              "          element.innerHTML = '';\n",
              "          dataTable['output_type'] = 'display_data';\n",
              "          await google.colab.output.renderOutput(dataTable, element);\n",
              "          const docLink = document.createElement('div');\n",
              "          docLink.innerHTML = docLinkHtml;\n",
              "          element.appendChild(docLink);\n",
              "        }\n",
              "      </script>\n",
              "    </div>\n",
              "  </div>\n",
              "  "
            ]
          },
          "metadata": {},
          "execution_count": 8
        }
      ]
    },
    {
      "cell_type": "code",
      "source": [
        "#the maximum number of time series that can be returned by CompactData\n",
        "requests.get('http://dataservices.imf.org/REST/SDMX_JSON.svc/GetMaxSeriesInResult').json()"
      ],
      "metadata": {
        "colab": {
          "base_uri": "https://localhost:8080/"
        },
        "id": "IQRt1nMNWLyt",
        "outputId": "9849d01a-f491-4ba6-bc93-a647c4a34f61"
      },
      "execution_count": 9,
      "outputs": [
        {
          "output_type": "execute_result",
          "data": {
            "text/plain": [
              "3000"
            ]
          },
          "metadata": {},
          "execution_count": 9
        }
      ]
    },
    {
      "cell_type": "markdown",
      "source": [
        "# areas"
      ],
      "metadata": {
        "id": "YwF5vPmK1kp2"
      }
    },
    {
      "cell_type": "code",
      "source": [
        "#areas\n",
        "areas = pd.json_normalize(codes.Code[2])\n",
        "areas.columns = ['code', 'language', 'name']\n",
        "areas.head()"
      ],
      "metadata": {
        "colab": {
          "base_uri": "https://localhost:8080/",
          "height": 206
        },
        "id": "6UVq2kpyR7Q3",
        "outputId": "116607b0-62f9-4d88-f774-4bee7ffe92f2"
      },
      "execution_count": 10,
      "outputs": [
        {
          "output_type": "execute_result",
          "data": {
            "text/plain": [
              "  code language                  name\n",
              "0   AF       en           Afghanistan\n",
              "1  F19       en  Africa not allocated\n",
              "2   AL       en               Albania\n",
              "3   DZ       en               Algeria\n",
              "4   AS       en        American Samoa"
            ],
            "text/html": [
              "\n",
              "  <div id=\"df-585eab47-a786-411f-8c49-d5d3a4a2b86b\">\n",
              "    <div class=\"colab-df-container\">\n",
              "      <div>\n",
              "<style scoped>\n",
              "    .dataframe tbody tr th:only-of-type {\n",
              "        vertical-align: middle;\n",
              "    }\n",
              "\n",
              "    .dataframe tbody tr th {\n",
              "        vertical-align: top;\n",
              "    }\n",
              "\n",
              "    .dataframe thead th {\n",
              "        text-align: right;\n",
              "    }\n",
              "</style>\n",
              "<table border=\"1\" class=\"dataframe\">\n",
              "  <thead>\n",
              "    <tr style=\"text-align: right;\">\n",
              "      <th></th>\n",
              "      <th>code</th>\n",
              "      <th>language</th>\n",
              "      <th>name</th>\n",
              "    </tr>\n",
              "  </thead>\n",
              "  <tbody>\n",
              "    <tr>\n",
              "      <th>0</th>\n",
              "      <td>AF</td>\n",
              "      <td>en</td>\n",
              "      <td>Afghanistan</td>\n",
              "    </tr>\n",
              "    <tr>\n",
              "      <th>1</th>\n",
              "      <td>F19</td>\n",
              "      <td>en</td>\n",
              "      <td>Africa not allocated</td>\n",
              "    </tr>\n",
              "    <tr>\n",
              "      <th>2</th>\n",
              "      <td>AL</td>\n",
              "      <td>en</td>\n",
              "      <td>Albania</td>\n",
              "    </tr>\n",
              "    <tr>\n",
              "      <th>3</th>\n",
              "      <td>DZ</td>\n",
              "      <td>en</td>\n",
              "      <td>Algeria</td>\n",
              "    </tr>\n",
              "    <tr>\n",
              "      <th>4</th>\n",
              "      <td>AS</td>\n",
              "      <td>en</td>\n",
              "      <td>American Samoa</td>\n",
              "    </tr>\n",
              "  </tbody>\n",
              "</table>\n",
              "</div>\n",
              "      <button class=\"colab-df-convert\" onclick=\"convertToInteractive('df-585eab47-a786-411f-8c49-d5d3a4a2b86b')\"\n",
              "              title=\"Convert this dataframe to an interactive table.\"\n",
              "              style=\"display:none;\">\n",
              "        \n",
              "  <svg xmlns=\"http://www.w3.org/2000/svg\" height=\"24px\"viewBox=\"0 0 24 24\"\n",
              "       width=\"24px\">\n",
              "    <path d=\"M0 0h24v24H0V0z\" fill=\"none\"/>\n",
              "    <path d=\"M18.56 5.44l.94 2.06.94-2.06 2.06-.94-2.06-.94-.94-2.06-.94 2.06-2.06.94zm-11 1L8.5 8.5l.94-2.06 2.06-.94-2.06-.94L8.5 2.5l-.94 2.06-2.06.94zm10 10l.94 2.06.94-2.06 2.06-.94-2.06-.94-.94-2.06-.94 2.06-2.06.94z\"/><path d=\"M17.41 7.96l-1.37-1.37c-.4-.4-.92-.59-1.43-.59-.52 0-1.04.2-1.43.59L10.3 9.45l-7.72 7.72c-.78.78-.78 2.05 0 2.83L4 21.41c.39.39.9.59 1.41.59.51 0 1.02-.2 1.41-.59l7.78-7.78 2.81-2.81c.8-.78.8-2.07 0-2.86zM5.41 20L4 18.59l7.72-7.72 1.47 1.35L5.41 20z\"/>\n",
              "  </svg>\n",
              "      </button>\n",
              "      \n",
              "  <style>\n",
              "    .colab-df-container {\n",
              "      display:flex;\n",
              "      flex-wrap:wrap;\n",
              "      gap: 12px;\n",
              "    }\n",
              "\n",
              "    .colab-df-convert {\n",
              "      background-color: #E8F0FE;\n",
              "      border: none;\n",
              "      border-radius: 50%;\n",
              "      cursor: pointer;\n",
              "      display: none;\n",
              "      fill: #1967D2;\n",
              "      height: 32px;\n",
              "      padding: 0 0 0 0;\n",
              "      width: 32px;\n",
              "    }\n",
              "\n",
              "    .colab-df-convert:hover {\n",
              "      background-color: #E2EBFA;\n",
              "      box-shadow: 0px 1px 2px rgba(60, 64, 67, 0.3), 0px 1px 3px 1px rgba(60, 64, 67, 0.15);\n",
              "      fill: #174EA6;\n",
              "    }\n",
              "\n",
              "    [theme=dark] .colab-df-convert {\n",
              "      background-color: #3B4455;\n",
              "      fill: #D2E3FC;\n",
              "    }\n",
              "\n",
              "    [theme=dark] .colab-df-convert:hover {\n",
              "      background-color: #434B5C;\n",
              "      box-shadow: 0px 1px 3px 1px rgba(0, 0, 0, 0.15);\n",
              "      filter: drop-shadow(0px 1px 2px rgba(0, 0, 0, 0.3));\n",
              "      fill: #FFFFFF;\n",
              "    }\n",
              "  </style>\n",
              "\n",
              "      <script>\n",
              "        const buttonEl =\n",
              "          document.querySelector('#df-585eab47-a786-411f-8c49-d5d3a4a2b86b button.colab-df-convert');\n",
              "        buttonEl.style.display =\n",
              "          google.colab.kernel.accessAllowed ? 'block' : 'none';\n",
              "\n",
              "        async function convertToInteractive(key) {\n",
              "          const element = document.querySelector('#df-585eab47-a786-411f-8c49-d5d3a4a2b86b');\n",
              "          const dataTable =\n",
              "            await google.colab.kernel.invokeFunction('convertToInteractive',\n",
              "                                                     [key], {});\n",
              "          if (!dataTable) return;\n",
              "\n",
              "          const docLinkHtml = 'Like what you see? Visit the ' +\n",
              "            '<a target=\"_blank\" href=https://colab.research.google.com/notebooks/data_table.ipynb>data table notebook</a>'\n",
              "            + ' to learn more about interactive tables.';\n",
              "          element.innerHTML = '';\n",
              "          dataTable['output_type'] = 'display_data';\n",
              "          await google.colab.output.renderOutput(dataTable, element);\n",
              "          const docLink = document.createElement('div');\n",
              "          docLink.innerHTML = docLinkHtml;\n",
              "          element.appendChild(docLink);\n",
              "        }\n",
              "      </script>\n",
              "    </div>\n",
              "  </div>\n",
              "  "
            ]
          },
          "metadata": {},
          "execution_count": 10
        }
      ]
    },
    {
      "cell_type": "code",
      "source": [
        "#Japanese name(コロナのVdataなどで整理済み、日経表記の日本語名)\n",
        "meta = pd.read_csv('https://raw.githubusercontent.com/miotomita/meta/main/countries_meta.csv')\n",
        "meta.loc[meta.code_3digit=='NAM',['code_2digit','ISO2']] = 'NA'\n",
        "\n",
        "areas['name_ja'] = areas.code.map(meta.set_index('ISO2').name_ja_NK.to_dict())"
      ],
      "metadata": {
        "id": "hbxye8p9frGi"
      },
      "execution_count": 11,
      "outputs": []
    },
    {
      "cell_type": "code",
      "source": [
        "#lat, long（Google表示）\n",
        "google= pd.read_html('https://developers.google.com/public-data/docs/canonical/countries_csv')[0]\n",
        "google = google.rename(columns={'country':'code'})\n",
        "google.loc[google.name=='Namibia','code'] = 'NA'\n",
        "\n",
        "areas = areas.merge(google, on='code', how='left',suffixes=('','_google'))"
      ],
      "metadata": {
        "id": "c6v02UFu41xU"
      },
      "execution_count": 12,
      "outputs": []
    },
    {
      "cell_type": "code",
      "source": [
        "#lat, long (Google表示にない分はmetaから追加=内容確認済み)\n",
        "null = areas[(~areas.name_ja.isna())&(areas.name_google.isna())].code.to_list()\n",
        "areas.loc[areas.code.isin(null),'latitude'] = areas.loc[areas.code.isin(null),'code'].map(meta.set_index('ISO2').lat_nikkei.to_dict())\n",
        "areas.loc[areas.code.isin(null),'longitude'] = areas.loc[areas.code.isin(null),'code'].map(meta.set_index('ISO2').long_nikkei.to_dict())\n",
        "areas[areas.code.isin(null)]"
      ],
      "metadata": {
        "colab": {
          "base_uri": "https://localhost:8080/",
          "height": 143
        },
        "id": "KB0uLQRG5DS3",
        "outputId": "82ae5545-4ed9-44a0-a038-d50a27c3eac1"
      },
      "execution_count": 13,
      "outputs": [
        {
          "output_type": "execute_result",
          "data": {
            "text/plain": [
              "    code language                       name    name_ja   latitude  longitude  \\\n",
              "53    CW       en                    Curacao      キュラソー  12.169230 -69.001715   \n",
              "179   SX       en  Sint Maarten (Dutch part)  シント・マールテン  18.039243 -63.059446   \n",
              "186   SS       en                South Sudan      南スーダン   7.446640  29.831393   \n",
              "\n",
              "    name_google  \n",
              "53          NaN  \n",
              "179         NaN  \n",
              "186         NaN  "
            ],
            "text/html": [
              "\n",
              "  <div id=\"df-688b539e-49f1-4484-b5f2-4cbd11896859\">\n",
              "    <div class=\"colab-df-container\">\n",
              "      <div>\n",
              "<style scoped>\n",
              "    .dataframe tbody tr th:only-of-type {\n",
              "        vertical-align: middle;\n",
              "    }\n",
              "\n",
              "    .dataframe tbody tr th {\n",
              "        vertical-align: top;\n",
              "    }\n",
              "\n",
              "    .dataframe thead th {\n",
              "        text-align: right;\n",
              "    }\n",
              "</style>\n",
              "<table border=\"1\" class=\"dataframe\">\n",
              "  <thead>\n",
              "    <tr style=\"text-align: right;\">\n",
              "      <th></th>\n",
              "      <th>code</th>\n",
              "      <th>language</th>\n",
              "      <th>name</th>\n",
              "      <th>name_ja</th>\n",
              "      <th>latitude</th>\n",
              "      <th>longitude</th>\n",
              "      <th>name_google</th>\n",
              "    </tr>\n",
              "  </thead>\n",
              "  <tbody>\n",
              "    <tr>\n",
              "      <th>53</th>\n",
              "      <td>CW</td>\n",
              "      <td>en</td>\n",
              "      <td>Curacao</td>\n",
              "      <td>キュラソー</td>\n",
              "      <td>12.169230</td>\n",
              "      <td>-69.001715</td>\n",
              "      <td>NaN</td>\n",
              "    </tr>\n",
              "    <tr>\n",
              "      <th>179</th>\n",
              "      <td>SX</td>\n",
              "      <td>en</td>\n",
              "      <td>Sint Maarten (Dutch part)</td>\n",
              "      <td>シント・マールテン</td>\n",
              "      <td>18.039243</td>\n",
              "      <td>-63.059446</td>\n",
              "      <td>NaN</td>\n",
              "    </tr>\n",
              "    <tr>\n",
              "      <th>186</th>\n",
              "      <td>SS</td>\n",
              "      <td>en</td>\n",
              "      <td>South Sudan</td>\n",
              "      <td>南スーダン</td>\n",
              "      <td>7.446640</td>\n",
              "      <td>29.831393</td>\n",
              "      <td>NaN</td>\n",
              "    </tr>\n",
              "  </tbody>\n",
              "</table>\n",
              "</div>\n",
              "      <button class=\"colab-df-convert\" onclick=\"convertToInteractive('df-688b539e-49f1-4484-b5f2-4cbd11896859')\"\n",
              "              title=\"Convert this dataframe to an interactive table.\"\n",
              "              style=\"display:none;\">\n",
              "        \n",
              "  <svg xmlns=\"http://www.w3.org/2000/svg\" height=\"24px\"viewBox=\"0 0 24 24\"\n",
              "       width=\"24px\">\n",
              "    <path d=\"M0 0h24v24H0V0z\" fill=\"none\"/>\n",
              "    <path d=\"M18.56 5.44l.94 2.06.94-2.06 2.06-.94-2.06-.94-.94-2.06-.94 2.06-2.06.94zm-11 1L8.5 8.5l.94-2.06 2.06-.94-2.06-.94L8.5 2.5l-.94 2.06-2.06.94zm10 10l.94 2.06.94-2.06 2.06-.94-2.06-.94-.94-2.06-.94 2.06-2.06.94z\"/><path d=\"M17.41 7.96l-1.37-1.37c-.4-.4-.92-.59-1.43-.59-.52 0-1.04.2-1.43.59L10.3 9.45l-7.72 7.72c-.78.78-.78 2.05 0 2.83L4 21.41c.39.39.9.59 1.41.59.51 0 1.02-.2 1.41-.59l7.78-7.78 2.81-2.81c.8-.78.8-2.07 0-2.86zM5.41 20L4 18.59l7.72-7.72 1.47 1.35L5.41 20z\"/>\n",
              "  </svg>\n",
              "      </button>\n",
              "      \n",
              "  <style>\n",
              "    .colab-df-container {\n",
              "      display:flex;\n",
              "      flex-wrap:wrap;\n",
              "      gap: 12px;\n",
              "    }\n",
              "\n",
              "    .colab-df-convert {\n",
              "      background-color: #E8F0FE;\n",
              "      border: none;\n",
              "      border-radius: 50%;\n",
              "      cursor: pointer;\n",
              "      display: none;\n",
              "      fill: #1967D2;\n",
              "      height: 32px;\n",
              "      padding: 0 0 0 0;\n",
              "      width: 32px;\n",
              "    }\n",
              "\n",
              "    .colab-df-convert:hover {\n",
              "      background-color: #E2EBFA;\n",
              "      box-shadow: 0px 1px 2px rgba(60, 64, 67, 0.3), 0px 1px 3px 1px rgba(60, 64, 67, 0.15);\n",
              "      fill: #174EA6;\n",
              "    }\n",
              "\n",
              "    [theme=dark] .colab-df-convert {\n",
              "      background-color: #3B4455;\n",
              "      fill: #D2E3FC;\n",
              "    }\n",
              "\n",
              "    [theme=dark] .colab-df-convert:hover {\n",
              "      background-color: #434B5C;\n",
              "      box-shadow: 0px 1px 3px 1px rgba(0, 0, 0, 0.15);\n",
              "      filter: drop-shadow(0px 1px 2px rgba(0, 0, 0, 0.3));\n",
              "      fill: #FFFFFF;\n",
              "    }\n",
              "  </style>\n",
              "\n",
              "      <script>\n",
              "        const buttonEl =\n",
              "          document.querySelector('#df-688b539e-49f1-4484-b5f2-4cbd11896859 button.colab-df-convert');\n",
              "        buttonEl.style.display =\n",
              "          google.colab.kernel.accessAllowed ? 'block' : 'none';\n",
              "\n",
              "        async function convertToInteractive(key) {\n",
              "          const element = document.querySelector('#df-688b539e-49f1-4484-b5f2-4cbd11896859');\n",
              "          const dataTable =\n",
              "            await google.colab.kernel.invokeFunction('convertToInteractive',\n",
              "                                                     [key], {});\n",
              "          if (!dataTable) return;\n",
              "\n",
              "          const docLinkHtml = 'Like what you see? Visit the ' +\n",
              "            '<a target=\"_blank\" href=https://colab.research.google.com/notebooks/data_table.ipynb>data table notebook</a>'\n",
              "            + ' to learn more about interactive tables.';\n",
              "          element.innerHTML = '';\n",
              "          dataTable['output_type'] = 'display_data';\n",
              "          await google.colab.output.renderOutput(dataTable, element);\n",
              "          const docLink = document.createElement('div');\n",
              "          docLink.innerHTML = docLinkHtml;\n",
              "          element.appendChild(docLink);\n",
              "        }\n",
              "      </script>\n",
              "    </div>\n",
              "  </div>\n",
              "  "
            ]
          },
          "metadata": {},
          "execution_count": 13
        }
      ]
    },
    {
      "cell_type": "code",
      "source": [
        "#旧国名\n",
        "former_countries = pd.DataFrame([\n",
        "    {'code':'DE2', 'name':'East Germany', 'name_ja':'旧東ドイツ', 'latitude':52.4, 'longitude':12.5}, #https://en.wikipedia.org/wiki/Module:Location_map/data/East_Germany\n",
        "    {'code':'CSH', 'name':'Former Czechoslovakia', 'name_ja':'旧チェコスロバキア', 'latitude':50.083333, 'longitude':14.416667}, #https://geohack.toolforge.org/geohack.php?pagename=Czechoslovakia&params=50_05_N_14_25_E_region:CZ_type:city\n",
        "    {'code':'CS', 'name':'Serbia and Montenegro', 'name_ja':'旧セルビア・モンテネグロ', 'latitude':44.816667, 'longitude':20.466667}, #https://geohack.toolforge.org/geohack.php?pagename=Serbia_and_Montenegro&params=44_49_N_20_28_E_source:kolossus-svwiki\n",
        "    {'code':'SUH', 'name':'Former U.S.S.R.', 'name_ja':'旧ソビエト連邦', 'latitude':55.751244, 'longitude':37.618423}, #Moscow\n",
        "    {'code':'1C_473', 'name':'Yemen Arab Rep.', 'name_ja':'旧イエメン・アラブ共和国', 'latitude':15.354722, 'longitude':44.206667}, #https://geohack.toolforge.org/geohack.php?pagename=Yemen_Arab_Republic&params=15_21_17_N_44_12_24_E_type:city_source:kolossus-hewiki\n",
        "    {'code':'1C_459', 'name':'Yemen, P.D. Rep.', 'name_ja':'イエメン人民民主共和国', 'latitude':12.8, 'longitude':45.033}, #https://geohack.toolforge.org/geohack.php?pagename=Democratic_Republic_of_Yemen&params=12.8000_N_45.0330_E_source:wikidata\n",
        "    {'code':'YUC', 'name':'Former Yugoslavia', 'name_ja':'旧ユーゴスラビア', 'latitude':44.816667, 'longitude':20.45} #https://geohack.toolforge.org/geohack.php?pagename=Yugoslavia&params=44_49_N_20_27_E_type:country_source:kolossus-hewiki\n",
        "     ])"
      ],
      "metadata": {
        "id": "oKU9X1MBHBeT"
      },
      "execution_count": 14,
      "outputs": []
    },
    {
      "cell_type": "code",
      "source": [
        "areas = areas.append(former_countries)\n",
        "areas = areas[~areas.duplicated(subset='code',keep='last')]"
      ],
      "metadata": {
        "id": "IMqrrvUeRxZ9"
      },
      "execution_count": 15,
      "outputs": []
    },
    {
      "cell_type": "code",
      "source": [
        "areas['code3'] = areas.code.map(meta.set_index('ISO2').ISO3.to_dict())"
      ],
      "metadata": {
        "id": "0VVdQg4cUW8w"
      },
      "execution_count": 16,
      "outputs": []
    },
    {
      "cell_type": "code",
      "source": [
        "na_areas = areas[areas.name_ja.isna()].code.to_list()"
      ],
      "metadata": {
        "id": "RI_usX_R3SMo"
      },
      "execution_count": 17,
      "outputs": []
    },
    {
      "cell_type": "code",
      "source": [
        "areas = areas.drop(['language','name_google'],axis=1)"
      ],
      "metadata": {
        "id": "sT2G956THBiB"
      },
      "execution_count": 18,
      "outputs": []
    },
    {
      "cell_type": "code",
      "source": [
        "areas[(~areas.name_ja.isna())&(areas.code3.isna())]"
      ],
      "metadata": {
        "colab": {
          "base_uri": "https://localhost:8080/",
          "height": 269
        },
        "id": "0LGF_a8SUh45",
        "outputId": "60d9a1ab-1d9d-4e2d-8b69-df66d3ce5cab"
      },
      "execution_count": 19,
      "outputs": [
        {
          "output_type": "execute_result",
          "data": {
            "text/plain": [
              "     code                   name       name_ja   latitude  longitude code3\n",
              "0     DE2           East Germany         旧東ドイツ  52.400000  12.500000   NaN\n",
              "1     CSH  Former Czechoslovakia     旧チェコスロバキア  50.083333  14.416667   NaN\n",
              "2      CS  Serbia and Montenegro  旧セルビア・モンテネグロ  44.816667  20.466667   NaN\n",
              "3     SUH        Former U.S.S.R.       旧ソビエト連邦  55.751244  37.618423   NaN\n",
              "4  1C_473        Yemen Arab Rep.  旧イエメン・アラブ共和国  15.354722  44.206667   NaN\n",
              "5  1C_459       Yemen, P.D. Rep.   イエメン人民民主共和国  12.800000  45.033000   NaN\n",
              "6     YUC      Former Yugoslavia      旧ユーゴスラビア  44.816667  20.450000   NaN"
            ],
            "text/html": [
              "\n",
              "  <div id=\"df-321133f3-ddb9-4239-b6a7-f3732223dc11\">\n",
              "    <div class=\"colab-df-container\">\n",
              "      <div>\n",
              "<style scoped>\n",
              "    .dataframe tbody tr th:only-of-type {\n",
              "        vertical-align: middle;\n",
              "    }\n",
              "\n",
              "    .dataframe tbody tr th {\n",
              "        vertical-align: top;\n",
              "    }\n",
              "\n",
              "    .dataframe thead th {\n",
              "        text-align: right;\n",
              "    }\n",
              "</style>\n",
              "<table border=\"1\" class=\"dataframe\">\n",
              "  <thead>\n",
              "    <tr style=\"text-align: right;\">\n",
              "      <th></th>\n",
              "      <th>code</th>\n",
              "      <th>name</th>\n",
              "      <th>name_ja</th>\n",
              "      <th>latitude</th>\n",
              "      <th>longitude</th>\n",
              "      <th>code3</th>\n",
              "    </tr>\n",
              "  </thead>\n",
              "  <tbody>\n",
              "    <tr>\n",
              "      <th>0</th>\n",
              "      <td>DE2</td>\n",
              "      <td>East Germany</td>\n",
              "      <td>旧東ドイツ</td>\n",
              "      <td>52.400000</td>\n",
              "      <td>12.500000</td>\n",
              "      <td>NaN</td>\n",
              "    </tr>\n",
              "    <tr>\n",
              "      <th>1</th>\n",
              "      <td>CSH</td>\n",
              "      <td>Former Czechoslovakia</td>\n",
              "      <td>旧チェコスロバキア</td>\n",
              "      <td>50.083333</td>\n",
              "      <td>14.416667</td>\n",
              "      <td>NaN</td>\n",
              "    </tr>\n",
              "    <tr>\n",
              "      <th>2</th>\n",
              "      <td>CS</td>\n",
              "      <td>Serbia and Montenegro</td>\n",
              "      <td>旧セルビア・モンテネグロ</td>\n",
              "      <td>44.816667</td>\n",
              "      <td>20.466667</td>\n",
              "      <td>NaN</td>\n",
              "    </tr>\n",
              "    <tr>\n",
              "      <th>3</th>\n",
              "      <td>SUH</td>\n",
              "      <td>Former U.S.S.R.</td>\n",
              "      <td>旧ソビエト連邦</td>\n",
              "      <td>55.751244</td>\n",
              "      <td>37.618423</td>\n",
              "      <td>NaN</td>\n",
              "    </tr>\n",
              "    <tr>\n",
              "      <th>4</th>\n",
              "      <td>1C_473</td>\n",
              "      <td>Yemen Arab Rep.</td>\n",
              "      <td>旧イエメン・アラブ共和国</td>\n",
              "      <td>15.354722</td>\n",
              "      <td>44.206667</td>\n",
              "      <td>NaN</td>\n",
              "    </tr>\n",
              "    <tr>\n",
              "      <th>5</th>\n",
              "      <td>1C_459</td>\n",
              "      <td>Yemen, P.D. Rep.</td>\n",
              "      <td>イエメン人民民主共和国</td>\n",
              "      <td>12.800000</td>\n",
              "      <td>45.033000</td>\n",
              "      <td>NaN</td>\n",
              "    </tr>\n",
              "    <tr>\n",
              "      <th>6</th>\n",
              "      <td>YUC</td>\n",
              "      <td>Former Yugoslavia</td>\n",
              "      <td>旧ユーゴスラビア</td>\n",
              "      <td>44.816667</td>\n",
              "      <td>20.450000</td>\n",
              "      <td>NaN</td>\n",
              "    </tr>\n",
              "  </tbody>\n",
              "</table>\n",
              "</div>\n",
              "      <button class=\"colab-df-convert\" onclick=\"convertToInteractive('df-321133f3-ddb9-4239-b6a7-f3732223dc11')\"\n",
              "              title=\"Convert this dataframe to an interactive table.\"\n",
              "              style=\"display:none;\">\n",
              "        \n",
              "  <svg xmlns=\"http://www.w3.org/2000/svg\" height=\"24px\"viewBox=\"0 0 24 24\"\n",
              "       width=\"24px\">\n",
              "    <path d=\"M0 0h24v24H0V0z\" fill=\"none\"/>\n",
              "    <path d=\"M18.56 5.44l.94 2.06.94-2.06 2.06-.94-2.06-.94-.94-2.06-.94 2.06-2.06.94zm-11 1L8.5 8.5l.94-2.06 2.06-.94-2.06-.94L8.5 2.5l-.94 2.06-2.06.94zm10 10l.94 2.06.94-2.06 2.06-.94-2.06-.94-.94-2.06-.94 2.06-2.06.94z\"/><path d=\"M17.41 7.96l-1.37-1.37c-.4-.4-.92-.59-1.43-.59-.52 0-1.04.2-1.43.59L10.3 9.45l-7.72 7.72c-.78.78-.78 2.05 0 2.83L4 21.41c.39.39.9.59 1.41.59.51 0 1.02-.2 1.41-.59l7.78-7.78 2.81-2.81c.8-.78.8-2.07 0-2.86zM5.41 20L4 18.59l7.72-7.72 1.47 1.35L5.41 20z\"/>\n",
              "  </svg>\n",
              "      </button>\n",
              "      \n",
              "  <style>\n",
              "    .colab-df-container {\n",
              "      display:flex;\n",
              "      flex-wrap:wrap;\n",
              "      gap: 12px;\n",
              "    }\n",
              "\n",
              "    .colab-df-convert {\n",
              "      background-color: #E8F0FE;\n",
              "      border: none;\n",
              "      border-radius: 50%;\n",
              "      cursor: pointer;\n",
              "      display: none;\n",
              "      fill: #1967D2;\n",
              "      height: 32px;\n",
              "      padding: 0 0 0 0;\n",
              "      width: 32px;\n",
              "    }\n",
              "\n",
              "    .colab-df-convert:hover {\n",
              "      background-color: #E2EBFA;\n",
              "      box-shadow: 0px 1px 2px rgba(60, 64, 67, 0.3), 0px 1px 3px 1px rgba(60, 64, 67, 0.15);\n",
              "      fill: #174EA6;\n",
              "    }\n",
              "\n",
              "    [theme=dark] .colab-df-convert {\n",
              "      background-color: #3B4455;\n",
              "      fill: #D2E3FC;\n",
              "    }\n",
              "\n",
              "    [theme=dark] .colab-df-convert:hover {\n",
              "      background-color: #434B5C;\n",
              "      box-shadow: 0px 1px 3px 1px rgba(0, 0, 0, 0.15);\n",
              "      filter: drop-shadow(0px 1px 2px rgba(0, 0, 0, 0.3));\n",
              "      fill: #FFFFFF;\n",
              "    }\n",
              "  </style>\n",
              "\n",
              "      <script>\n",
              "        const buttonEl =\n",
              "          document.querySelector('#df-321133f3-ddb9-4239-b6a7-f3732223dc11 button.colab-df-convert');\n",
              "        buttonEl.style.display =\n",
              "          google.colab.kernel.accessAllowed ? 'block' : 'none';\n",
              "\n",
              "        async function convertToInteractive(key) {\n",
              "          const element = document.querySelector('#df-321133f3-ddb9-4239-b6a7-f3732223dc11');\n",
              "          const dataTable =\n",
              "            await google.colab.kernel.invokeFunction('convertToInteractive',\n",
              "                                                     [key], {});\n",
              "          if (!dataTable) return;\n",
              "\n",
              "          const docLinkHtml = 'Like what you see? Visit the ' +\n",
              "            '<a target=\"_blank\" href=https://colab.research.google.com/notebooks/data_table.ipynb>data table notebook</a>'\n",
              "            + ' to learn more about interactive tables.';\n",
              "          element.innerHTML = '';\n",
              "          dataTable['output_type'] = 'display_data';\n",
              "          await google.colab.output.renderOutput(dataTable, element);\n",
              "          const docLink = document.createElement('div');\n",
              "          docLink.innerHTML = docLinkHtml;\n",
              "          element.appendChild(docLink);\n",
              "        }\n",
              "      </script>\n",
              "    </div>\n",
              "  </div>\n",
              "  "
            ]
          },
          "metadata": {},
          "execution_count": 19
        }
      ]
    },
    {
      "cell_type": "code",
      "source": [
        "areas.to_csv('areas.csv', index=False)"
      ],
      "metadata": {
        "id": "4UM5NI2DCWux"
      },
      "execution_count": 20,
      "outputs": []
    },
    {
      "cell_type": "code",
      "source": [
        "areas_r = areas.loc[~areas.latitude.isna()]\n",
        "areas_r.to_csv('areas_r.csv', index=False)"
      ],
      "metadata": {
        "id": "YtZ8D5_IdW7Y"
      },
      "execution_count": 21,
      "outputs": []
    },
    {
      "cell_type": "markdown",
      "source": [
        "#data"
      ],
      "metadata": {
        "id": "XVp0p8nAiso5"
      }
    },
    {
      "cell_type": "markdown",
      "source": [
        "retrieve data"
      ],
      "metadata": {
        "id": "GDjDU0SI88IO"
      }
    },
    {
      "cell_type": "code",
      "source": [
        "imf_data = []\n",
        "indicators = ['TXG_FOB_USD','TMG_FOB_USD','TMG_CIF_USD']\n",
        "\n",
        "for iter in itertools.product(areas.code, indicators):\n",
        "  #url\n",
        "  country_code = iter[0]\n",
        "  indicator= iter[1]\n",
        "  id = 'DOT'\n",
        "  freq = 'A'\n",
        "  start = 1940\n",
        "  end = 2022\n",
        "\n",
        "  url = f'http://dataservices.imf.org/REST/SDMX_JSON.svc/CompactData/{id}/{freq}.{country_code}.{indicator}.?startPeriod={start}&endPeriod={end}'\n",
        "\n",
        "  try:\n",
        "    #get data\n",
        "    r = requests.get(url)\n",
        "    data = r.json()\n",
        "    series = data['CompactData']['DataSet']['Series']\n",
        "\n",
        "    #cleaning data\n",
        "    for item in series:\n",
        "      item['Obs'] = np.nan if 'Obs' not in item.keys() else item['Obs']\n",
        "      item['Obs'] = [item['Obs']] if type(item['Obs']) != list else item['Obs']\n",
        "\n",
        "    #append data\n",
        "    imf_data = imf_data + series\n",
        "\n",
        "  except:\n",
        "    pass\n",
        "  time.sleep(1)"
      ],
      "metadata": {
        "id": "bcrn2uxvEWyc"
      },
      "execution_count": 22,
      "outputs": []
    },
    {
      "cell_type": "markdown",
      "source": [
        "df"
      ],
      "metadata": {
        "id": "qY79wVupGIpE"
      }
    },
    {
      "cell_type": "code",
      "source": [
        "#df\n",
        "df = pd.json_normalize(imf_data, 'Obs', ['@REF_AREA','@COUNTERPART_AREA','@INDICATOR', '@UNIT_MULT'])\n",
        "df = df.rename(columns = {'@TIME_PERIOD':'year', '@OBS_VALUE':'value', '@OBS_STATUS':'status', '@REF_AREA':'code', '@COUNTERPART_AREA':'counterpart_code', '@INDICATOR':'indicator', '@UNIT_MULT':'unit'})\n",
        "df = df.drop(['status'], axis=1)"
      ],
      "metadata": {
        "id": "ofM2QciLEW5r"
      },
      "execution_count": 23,
      "outputs": []
    },
    {
      "cell_type": "code",
      "source": [
        "df['name'] = df.code.map(areas.set_index('code').name.to_dict())\n",
        "df['name_ja'] = df.code.map(areas.set_index('code').name_ja.to_dict())\n",
        "df['counterpart_name'] = df.counterpart_code.map(areas.set_index('code').name.to_dict())\n",
        "df['counterpart_name_ja'] = df.counterpart_code.map(areas.set_index('code').name_ja.to_dict())"
      ],
      "metadata": {
        "id": "JaUmv6Xz0QYJ"
      },
      "execution_count": 24,
      "outputs": []
    },
    {
      "cell_type": "code",
      "source": [
        "df['indicator_name'] = df.indicator.map({\n",
        "    'TXG_FOB_USD':'Goods, Value of Exports, Free on board (FOB), USD',\n",
        "    'TMG_FOB_USD':'Goods, Value of Imports, Free on board (FOB), USD',\n",
        "    'TMG_CIF_USD':'Goods, Value of Imports, Cost, insurance, and freight (CIF), USD'\n",
        "    })"
      ],
      "metadata": {
        "id": "oTSNpPDO0ykP"
      },
      "execution_count": 25,
      "outputs": []
    },
    {
      "cell_type": "code",
      "source": [
        "df.value = df.value.astype(float)\n",
        "df.year = df.year.astype(int)"
      ],
      "metadata": {
        "id": "t3x1uooo7H8T"
      },
      "execution_count": 26,
      "outputs": []
    },
    {
      "cell_type": "code",
      "source": [
        "#すべてmillions USD\n",
        "df.unit.unique()"
      ],
      "metadata": {
        "colab": {
          "base_uri": "https://localhost:8080/"
        },
        "id": "nKdEilauJSyr",
        "outputId": "5e96434b-502a-4d57-a816-8b75ff86d2fd"
      },
      "execution_count": 73,
      "outputs": [
        {
          "output_type": "execute_result",
          "data": {
            "text/plain": [
              "array(['6'], dtype=object)"
            ]
          },
          "metadata": {},
          "execution_count": 73
        }
      ]
    },
    {
      "cell_type": "code",
      "source": [
        "df = df.drop('unit', axis=1)"
      ],
      "metadata": {
        "id": "dhL9SLUSJW6I"
      },
      "execution_count": 75,
      "outputs": []
    },
    {
      "cell_type": "markdown",
      "source": [
        "加工前アウトプット"
      ],
      "metadata": {
        "id": "3m2fGvFDIcFN"
      }
    },
    {
      "cell_type": "code",
      "source": [
        "df.to_csv('imf_dots_all.csv',index=False)"
      ],
      "metadata": {
        "id": "FtTkvIW3HcVX"
      },
      "execution_count": 76,
      "outputs": []
    },
    {
      "cell_type": "code",
      "source": [
        "country_df = df[df.code.isin(areas_r.code)]\n",
        "country_df.to_csv('imf_dots_all_countries.csv', index=False)"
      ],
      "metadata": {
        "id": "AWDTatgIHqka"
      },
      "execution_count": 77,
      "outputs": []
    },
    {
      "cell_type": "code",
      "source": [
        "df.loc[(df.code=='W00')&(df.counterpart_code=='W00')].to_csv('imf_dots_world.csv',index=False)"
      ],
      "metadata": {
        "id": "46i-RCiAQCwg"
      },
      "execution_count": 125,
      "outputs": []
    },
    {
      "cell_type": "markdown",
      "source": [
        "輸出入、貿易総額"
      ],
      "metadata": {
        "id": "YbSiLsDkEvrq"
      }
    },
    {
      "cell_type": "code",
      "source": [
        "#export\n",
        "exports = df[df.indicator=='TXG_FOB_USD']\n",
        "exports.to_csv('imf_dots_exports.csv',index=False)"
      ],
      "metadata": {
        "id": "SSfhytZGIxFI"
      },
      "execution_count": 116,
      "outputs": []
    },
    {
      "cell_type": "code",
      "source": [
        "#import\n",
        "df[df.indicator=='TMG_FOB_USD'].to_csv('imf_dots_imports_FOB.csv',index=False)\n",
        "df[df.indicator=='TMG_CIF_USD'].to_csv('imf_dots_imports_CIF.csv',index=False)"
      ],
      "metadata": {
        "id": "zOXTVqarEIHL"
      },
      "execution_count": 117,
      "outputs": []
    },
    {
      "cell_type": "code",
      "source": [
        "#importのFOBデータがある国\n",
        "df[df.indicator=='TMG_FOB_USD'].name.unique()"
      ],
      "metadata": {
        "colab": {
          "base_uri": "https://localhost:8080/"
        },
        "id": "EtGvD9RvOYp1",
        "outputId": "2a495842-2230-4b1f-b41a-f0cb3b6a8361"
      },
      "execution_count": 118,
      "outputs": [
        {
          "output_type": "execute_result",
          "data": {
            "text/plain": [
              "array(['Australia', 'Bermuda', 'Brazil', 'Canada', 'Dominican Republic',\n",
              "       'Mexico', 'Papua New Guinea', 'Paraguay', 'Peru', 'Romania',\n",
              "       'Solomon Islands', 'South Africa',\n",
              "       'South African Common Customs Area (SACCA)', 'Zimbabwe',\n",
              "       'Former Czechoslovakia'], dtype=object)"
            ]
          },
          "metadata": {},
          "execution_count": 118
        }
      ]
    },
    {
      "cell_type": "code",
      "source": [
        "#importデータはFOBがあるものはFOB, CIFのみはCIFに\n",
        "imports= df[df.indicator!='TXG_FOB_USD'].sort_values(by='indicator')\n",
        "imports = imports[~imports.duplicated(subset=['year','code','counterpart_code'], keep='first')]"
      ],
      "metadata": {
        "id": "7y4bsYYFEq4D"
      },
      "execution_count": 120,
      "outputs": []
    },
    {
      "cell_type": "code",
      "source": [
        "#貿易総額\n",
        "total_trade = pd.concat([imports, exports]).groupby(['year', 'code', 'counterpart_code', 'name','name_ja', 'counterpart_name', 'counterpart_name_ja']).value.sum().reset_index()"
      ],
      "metadata": {
        "id": "TsFE2OsGIeYl"
      },
      "execution_count": 121,
      "outputs": []
    },
    {
      "cell_type": "code",
      "source": [
        "#地域データなど除外して保存\n",
        "imports[imports.code.isin(areas_r.code)].to_csv('imf_dots_imports_countries.csv',index=False)\n",
        "exports[exports.code.isin(areas_r.code)].to_csv('imf_dots_exports_countries.csv',index=False)\n",
        "total_trade[total_trade.code.isin(areas_r.code)].to_csv('imf_dots_totaltrade_countries.csv',index=False)"
      ],
      "metadata": {
        "id": "8kt__xSqJA25"
      },
      "execution_count": 122,
      "outputs": []
    },
    {
      "cell_type": "markdown",
      "source": [
        "確認"
      ],
      "metadata": {
        "id": "FysY_whpHlWY"
      }
    },
    {
      "cell_type": "code",
      "source": [
        "#データのある国の数\n",
        "df[~df.duplicated(subset=['year','code'],keep='first')].year.value_counts().sort_index()"
      ],
      "metadata": {
        "colab": {
          "base_uri": "https://localhost:8080/"
        },
        "id": "juUb6vENg4Xz",
        "outputId": "971e2224-8dc2-46d9-aef9-070feca83c3a"
      },
      "execution_count": 123,
      "outputs": [
        {
          "output_type": "execute_result",
          "data": {
            "text/plain": [
              "1948    100\n",
              "1949     93\n",
              "1950     93\n",
              "1951     96\n",
              "1952     96\n",
              "       ... \n",
              "2017    227\n",
              "2018    227\n",
              "2019    227\n",
              "2020    227\n",
              "2021    227\n",
              "Name: year, Length: 74, dtype: int64"
            ]
          },
          "metadata": {},
          "execution_count": 123
        }
      ]
    },
    {
      "cell_type": "code",
      "source": [
        "##Japanは1948~\n",
        "#Chinaは1961~\n",
        "df[(~df.sort_values(by='year').duplicated(subset='code', keep='first'))&(df.code.isin(['JP','US','CN','GB','DE','CA','SG']))&(df.indicator=='TXG_FOB_USD')]"
      ],
      "metadata": {
        "colab": {
          "base_uri": "https://localhost:8080/",
          "height": 444
        },
        "id": "yCTIL1VJMDbI",
        "outputId": "117abddd-68ff-4e05-e9a9-1c02a44ffeca"
      },
      "execution_count": 124,
      "outputs": [
        {
          "output_type": "execute_result",
          "data": {
            "text/plain": [
              "         year   value code counterpart_code    indicator            name  \\\n",
              "400884   1948    5.00   CA               IL  TXG_FOB_USD          Canada   \n",
              "497932   1961    0.60   CN               DZ  TXG_FOB_USD           China   \n",
              "889469   1948    1.00   DE               AU  TXG_FOB_USD         Germany   \n",
              "2013384  1960    0.73   SG               MM  TXG_FOB_USD       Singapore   \n",
              "2394571  1948  409.30   GB              F97  TXG_FOB_USD  United Kingdom   \n",
              "\n",
              "        name_ja counterpart_name counterpart_name_ja  \\\n",
              "400884      カナダ           Israel               イスラエル   \n",
              "497932       中国          Algeria              アルジェリア   \n",
              "889469      ドイツ        Australia             オーストラリア   \n",
              "2013384  シンガポール          Myanmar               ミャンマー   \n",
              "2394571      英国      Middle East                 NaN   \n",
              "\n",
              "                                            indicator_name  \n",
              "400884   Goods, Value of Exports, Free on board (FOB), USD  \n",
              "497932   Goods, Value of Exports, Free on board (FOB), USD  \n",
              "889469   Goods, Value of Exports, Free on board (FOB), USD  \n",
              "2013384  Goods, Value of Exports, Free on board (FOB), USD  \n",
              "2394571  Goods, Value of Exports, Free on board (FOB), USD  "
            ],
            "text/html": [
              "\n",
              "  <div id=\"df-b228e3b2-5b50-425c-b61c-f505cb9958be\">\n",
              "    <div class=\"colab-df-container\">\n",
              "      <div>\n",
              "<style scoped>\n",
              "    .dataframe tbody tr th:only-of-type {\n",
              "        vertical-align: middle;\n",
              "    }\n",
              "\n",
              "    .dataframe tbody tr th {\n",
              "        vertical-align: top;\n",
              "    }\n",
              "\n",
              "    .dataframe thead th {\n",
              "        text-align: right;\n",
              "    }\n",
              "</style>\n",
              "<table border=\"1\" class=\"dataframe\">\n",
              "  <thead>\n",
              "    <tr style=\"text-align: right;\">\n",
              "      <th></th>\n",
              "      <th>year</th>\n",
              "      <th>value</th>\n",
              "      <th>code</th>\n",
              "      <th>counterpart_code</th>\n",
              "      <th>indicator</th>\n",
              "      <th>name</th>\n",
              "      <th>name_ja</th>\n",
              "      <th>counterpart_name</th>\n",
              "      <th>counterpart_name_ja</th>\n",
              "      <th>indicator_name</th>\n",
              "    </tr>\n",
              "  </thead>\n",
              "  <tbody>\n",
              "    <tr>\n",
              "      <th>400884</th>\n",
              "      <td>1948</td>\n",
              "      <td>5.00</td>\n",
              "      <td>CA</td>\n",
              "      <td>IL</td>\n",
              "      <td>TXG_FOB_USD</td>\n",
              "      <td>Canada</td>\n",
              "      <td>カナダ</td>\n",
              "      <td>Israel</td>\n",
              "      <td>イスラエル</td>\n",
              "      <td>Goods, Value of Exports, Free on board (FOB), USD</td>\n",
              "    </tr>\n",
              "    <tr>\n",
              "      <th>497932</th>\n",
              "      <td>1961</td>\n",
              "      <td>0.60</td>\n",
              "      <td>CN</td>\n",
              "      <td>DZ</td>\n",
              "      <td>TXG_FOB_USD</td>\n",
              "      <td>China</td>\n",
              "      <td>中国</td>\n",
              "      <td>Algeria</td>\n",
              "      <td>アルジェリア</td>\n",
              "      <td>Goods, Value of Exports, Free on board (FOB), USD</td>\n",
              "    </tr>\n",
              "    <tr>\n",
              "      <th>889469</th>\n",
              "      <td>1948</td>\n",
              "      <td>1.00</td>\n",
              "      <td>DE</td>\n",
              "      <td>AU</td>\n",
              "      <td>TXG_FOB_USD</td>\n",
              "      <td>Germany</td>\n",
              "      <td>ドイツ</td>\n",
              "      <td>Australia</td>\n",
              "      <td>オーストラリア</td>\n",
              "      <td>Goods, Value of Exports, Free on board (FOB), USD</td>\n",
              "    </tr>\n",
              "    <tr>\n",
              "      <th>2013384</th>\n",
              "      <td>1960</td>\n",
              "      <td>0.73</td>\n",
              "      <td>SG</td>\n",
              "      <td>MM</td>\n",
              "      <td>TXG_FOB_USD</td>\n",
              "      <td>Singapore</td>\n",
              "      <td>シンガポール</td>\n",
              "      <td>Myanmar</td>\n",
              "      <td>ミャンマー</td>\n",
              "      <td>Goods, Value of Exports, Free on board (FOB), USD</td>\n",
              "    </tr>\n",
              "    <tr>\n",
              "      <th>2394571</th>\n",
              "      <td>1948</td>\n",
              "      <td>409.30</td>\n",
              "      <td>GB</td>\n",
              "      <td>F97</td>\n",
              "      <td>TXG_FOB_USD</td>\n",
              "      <td>United Kingdom</td>\n",
              "      <td>英国</td>\n",
              "      <td>Middle East</td>\n",
              "      <td>NaN</td>\n",
              "      <td>Goods, Value of Exports, Free on board (FOB), USD</td>\n",
              "    </tr>\n",
              "  </tbody>\n",
              "</table>\n",
              "</div>\n",
              "      <button class=\"colab-df-convert\" onclick=\"convertToInteractive('df-b228e3b2-5b50-425c-b61c-f505cb9958be')\"\n",
              "              title=\"Convert this dataframe to an interactive table.\"\n",
              "              style=\"display:none;\">\n",
              "        \n",
              "  <svg xmlns=\"http://www.w3.org/2000/svg\" height=\"24px\"viewBox=\"0 0 24 24\"\n",
              "       width=\"24px\">\n",
              "    <path d=\"M0 0h24v24H0V0z\" fill=\"none\"/>\n",
              "    <path d=\"M18.56 5.44l.94 2.06.94-2.06 2.06-.94-2.06-.94-.94-2.06-.94 2.06-2.06.94zm-11 1L8.5 8.5l.94-2.06 2.06-.94-2.06-.94L8.5 2.5l-.94 2.06-2.06.94zm10 10l.94 2.06.94-2.06 2.06-.94-2.06-.94-.94-2.06-.94 2.06-2.06.94z\"/><path d=\"M17.41 7.96l-1.37-1.37c-.4-.4-.92-.59-1.43-.59-.52 0-1.04.2-1.43.59L10.3 9.45l-7.72 7.72c-.78.78-.78 2.05 0 2.83L4 21.41c.39.39.9.59 1.41.59.51 0 1.02-.2 1.41-.59l7.78-7.78 2.81-2.81c.8-.78.8-2.07 0-2.86zM5.41 20L4 18.59l7.72-7.72 1.47 1.35L5.41 20z\"/>\n",
              "  </svg>\n",
              "      </button>\n",
              "      \n",
              "  <style>\n",
              "    .colab-df-container {\n",
              "      display:flex;\n",
              "      flex-wrap:wrap;\n",
              "      gap: 12px;\n",
              "    }\n",
              "\n",
              "    .colab-df-convert {\n",
              "      background-color: #E8F0FE;\n",
              "      border: none;\n",
              "      border-radius: 50%;\n",
              "      cursor: pointer;\n",
              "      display: none;\n",
              "      fill: #1967D2;\n",
              "      height: 32px;\n",
              "      padding: 0 0 0 0;\n",
              "      width: 32px;\n",
              "    }\n",
              "\n",
              "    .colab-df-convert:hover {\n",
              "      background-color: #E2EBFA;\n",
              "      box-shadow: 0px 1px 2px rgba(60, 64, 67, 0.3), 0px 1px 3px 1px rgba(60, 64, 67, 0.15);\n",
              "      fill: #174EA6;\n",
              "    }\n",
              "\n",
              "    [theme=dark] .colab-df-convert {\n",
              "      background-color: #3B4455;\n",
              "      fill: #D2E3FC;\n",
              "    }\n",
              "\n",
              "    [theme=dark] .colab-df-convert:hover {\n",
              "      background-color: #434B5C;\n",
              "      box-shadow: 0px 1px 3px 1px rgba(0, 0, 0, 0.15);\n",
              "      filter: drop-shadow(0px 1px 2px rgba(0, 0, 0, 0.3));\n",
              "      fill: #FFFFFF;\n",
              "    }\n",
              "  </style>\n",
              "\n",
              "      <script>\n",
              "        const buttonEl =\n",
              "          document.querySelector('#df-b228e3b2-5b50-425c-b61c-f505cb9958be button.colab-df-convert');\n",
              "        buttonEl.style.display =\n",
              "          google.colab.kernel.accessAllowed ? 'block' : 'none';\n",
              "\n",
              "        async function convertToInteractive(key) {\n",
              "          const element = document.querySelector('#df-b228e3b2-5b50-425c-b61c-f505cb9958be');\n",
              "          const dataTable =\n",
              "            await google.colab.kernel.invokeFunction('convertToInteractive',\n",
              "                                                     [key], {});\n",
              "          if (!dataTable) return;\n",
              "\n",
              "          const docLinkHtml = 'Like what you see? Visit the ' +\n",
              "            '<a target=\"_blank\" href=https://colab.research.google.com/notebooks/data_table.ipynb>data table notebook</a>'\n",
              "            + ' to learn more about interactive tables.';\n",
              "          element.innerHTML = '';\n",
              "          dataTable['output_type'] = 'display_data';\n",
              "          await google.colab.output.renderOutput(dataTable, element);\n",
              "          const docLink = document.createElement('div');\n",
              "          docLink.innerHTML = docLinkHtml;\n",
              "          element.appendChild(docLink);\n",
              "        }\n",
              "      </script>\n",
              "    </div>\n",
              "  </div>\n",
              "  "
            ]
          },
          "metadata": {},
          "execution_count": 124
        }
      ]
    },
    {
      "cell_type": "markdown",
      "source": [
        "Flourish用"
      ],
      "metadata": {
        "id": "8LORgu-KF_YZ"
      }
    },
    {
      "cell_type": "code",
      "source": [
        "#file size mitigation for Flourish\n",
        "exports_r = exports[exports.code.isin(areas_r.code)].drop(['indicator','indicator_name','name','name_ja','counterpart_name','counterpart_name_ja'], axis=1)\n",
        "exports_r.value = exports_r.value.round(4)\n",
        "exports_r.to_csv('imf_dots_countries_export_r.csv', index=False)"
      ],
      "metadata": {
        "id": "E5isfUxWaAqB"
      },
      "execution_count": 131,
      "outputs": []
    },
    {
      "cell_type": "code",
      "source": [
        "#rankづけ\n",
        "exports_r['rank'] = exports_r.groupby('year').value.rank(ascending=False, method='first')"
      ],
      "metadata": {
        "id": "l6br35bIenes"
      },
      "execution_count": 132,
      "outputs": []
    },
    {
      "cell_type": "code",
      "source": [
        "exports_r[(exports_r['rank']<1000)].to_csv('imf_dots_countries_export_top1000.csv', index=False)"
      ],
      "metadata": {
        "id": "TzbANVaGgAMR"
      },
      "execution_count": 133,
      "outputs": []
    },
    {
      "cell_type": "markdown",
      "source": [
        "#tug-of-war"
      ],
      "metadata": {
        "id": "b9EoVU7xF06b"
      }
    },
    {
      "cell_type": "code",
      "source": [
        "#米中が相手国の貿易総額のみ抜粋\n",
        "tug = total_trade[(total_trade.code.isin(areas_r.code))&(total_trade.counterpart_code.isin(['US','CN']))]"
      ],
      "metadata": {
        "id": "fM3OS3deSLD7"
      },
      "execution_count": 136,
      "outputs": []
    },
    {
      "cell_type": "code",
      "source": [
        "tug = tug.pivot(index=['year','code','name_ja'],columns='counterpart_code',values='value')"
      ],
      "metadata": {
        "id": "CM0uiWRhSvnM"
      },
      "execution_count": 142,
      "outputs": []
    },
    {
      "cell_type": "code",
      "source": [
        "tug.head()"
      ],
      "metadata": {
        "colab": {
          "base_uri": "https://localhost:8080/",
          "height": 237
        },
        "id": "6B-UaqLST-bf",
        "outputId": "ab37271d-b5e5-4ba9-e34a-e3a0f9f88ea1"
      },
      "execution_count": 144,
      "outputs": [
        {
          "output_type": "execute_result",
          "data": {
            "text/plain": [
              "counterpart_code         CN      US\n",
              "year code name_ja                  \n",
              "1948 AN   オランダ領アンティル   0.11  127.03\n",
              "     AO   アンゴラ          NaN   13.20\n",
              "     AR   アルゼンチン        NaN  763.10\n",
              "     AT   オーストリア       0.80  282.50\n",
              "     AU   オーストラリア     16.22  268.79"
            ],
            "text/html": [
              "\n",
              "  <div id=\"df-8f44edf2-1dd3-4e06-a350-dc580dc2a0ec\">\n",
              "    <div class=\"colab-df-container\">\n",
              "      <div>\n",
              "<style scoped>\n",
              "    .dataframe tbody tr th:only-of-type {\n",
              "        vertical-align: middle;\n",
              "    }\n",
              "\n",
              "    .dataframe tbody tr th {\n",
              "        vertical-align: top;\n",
              "    }\n",
              "\n",
              "    .dataframe thead th {\n",
              "        text-align: right;\n",
              "    }\n",
              "</style>\n",
              "<table border=\"1\" class=\"dataframe\">\n",
              "  <thead>\n",
              "    <tr style=\"text-align: right;\">\n",
              "      <th></th>\n",
              "      <th></th>\n",
              "      <th>counterpart_code</th>\n",
              "      <th>CN</th>\n",
              "      <th>US</th>\n",
              "    </tr>\n",
              "    <tr>\n",
              "      <th>year</th>\n",
              "      <th>code</th>\n",
              "      <th>name_ja</th>\n",
              "      <th></th>\n",
              "      <th></th>\n",
              "    </tr>\n",
              "  </thead>\n",
              "  <tbody>\n",
              "    <tr>\n",
              "      <th rowspan=\"5\" valign=\"top\">1948</th>\n",
              "      <th>AN</th>\n",
              "      <th>オランダ領アンティル</th>\n",
              "      <td>0.11</td>\n",
              "      <td>127.03</td>\n",
              "    </tr>\n",
              "    <tr>\n",
              "      <th>AO</th>\n",
              "      <th>アンゴラ</th>\n",
              "      <td>NaN</td>\n",
              "      <td>13.20</td>\n",
              "    </tr>\n",
              "    <tr>\n",
              "      <th>AR</th>\n",
              "      <th>アルゼンチン</th>\n",
              "      <td>NaN</td>\n",
              "      <td>763.10</td>\n",
              "    </tr>\n",
              "    <tr>\n",
              "      <th>AT</th>\n",
              "      <th>オーストリア</th>\n",
              "      <td>0.80</td>\n",
              "      <td>282.50</td>\n",
              "    </tr>\n",
              "    <tr>\n",
              "      <th>AU</th>\n",
              "      <th>オーストラリア</th>\n",
              "      <td>16.22</td>\n",
              "      <td>268.79</td>\n",
              "    </tr>\n",
              "  </tbody>\n",
              "</table>\n",
              "</div>\n",
              "      <button class=\"colab-df-convert\" onclick=\"convertToInteractive('df-8f44edf2-1dd3-4e06-a350-dc580dc2a0ec')\"\n",
              "              title=\"Convert this dataframe to an interactive table.\"\n",
              "              style=\"display:none;\">\n",
              "        \n",
              "  <svg xmlns=\"http://www.w3.org/2000/svg\" height=\"24px\"viewBox=\"0 0 24 24\"\n",
              "       width=\"24px\">\n",
              "    <path d=\"M0 0h24v24H0V0z\" fill=\"none\"/>\n",
              "    <path d=\"M18.56 5.44l.94 2.06.94-2.06 2.06-.94-2.06-.94-.94-2.06-.94 2.06-2.06.94zm-11 1L8.5 8.5l.94-2.06 2.06-.94-2.06-.94L8.5 2.5l-.94 2.06-2.06.94zm10 10l.94 2.06.94-2.06 2.06-.94-2.06-.94-.94-2.06-.94 2.06-2.06.94z\"/><path d=\"M17.41 7.96l-1.37-1.37c-.4-.4-.92-.59-1.43-.59-.52 0-1.04.2-1.43.59L10.3 9.45l-7.72 7.72c-.78.78-.78 2.05 0 2.83L4 21.41c.39.39.9.59 1.41.59.51 0 1.02-.2 1.41-.59l7.78-7.78 2.81-2.81c.8-.78.8-2.07 0-2.86zM5.41 20L4 18.59l7.72-7.72 1.47 1.35L5.41 20z\"/>\n",
              "  </svg>\n",
              "      </button>\n",
              "      \n",
              "  <style>\n",
              "    .colab-df-container {\n",
              "      display:flex;\n",
              "      flex-wrap:wrap;\n",
              "      gap: 12px;\n",
              "    }\n",
              "\n",
              "    .colab-df-convert {\n",
              "      background-color: #E8F0FE;\n",
              "      border: none;\n",
              "      border-radius: 50%;\n",
              "      cursor: pointer;\n",
              "      display: none;\n",
              "      fill: #1967D2;\n",
              "      height: 32px;\n",
              "      padding: 0 0 0 0;\n",
              "      width: 32px;\n",
              "    }\n",
              "\n",
              "    .colab-df-convert:hover {\n",
              "      background-color: #E2EBFA;\n",
              "      box-shadow: 0px 1px 2px rgba(60, 64, 67, 0.3), 0px 1px 3px 1px rgba(60, 64, 67, 0.15);\n",
              "      fill: #174EA6;\n",
              "    }\n",
              "\n",
              "    [theme=dark] .colab-df-convert {\n",
              "      background-color: #3B4455;\n",
              "      fill: #D2E3FC;\n",
              "    }\n",
              "\n",
              "    [theme=dark] .colab-df-convert:hover {\n",
              "      background-color: #434B5C;\n",
              "      box-shadow: 0px 1px 3px 1px rgba(0, 0, 0, 0.15);\n",
              "      filter: drop-shadow(0px 1px 2px rgba(0, 0, 0, 0.3));\n",
              "      fill: #FFFFFF;\n",
              "    }\n",
              "  </style>\n",
              "\n",
              "      <script>\n",
              "        const buttonEl =\n",
              "          document.querySelector('#df-8f44edf2-1dd3-4e06-a350-dc580dc2a0ec button.colab-df-convert');\n",
              "        buttonEl.style.display =\n",
              "          google.colab.kernel.accessAllowed ? 'block' : 'none';\n",
              "\n",
              "        async function convertToInteractive(key) {\n",
              "          const element = document.querySelector('#df-8f44edf2-1dd3-4e06-a350-dc580dc2a0ec');\n",
              "          const dataTable =\n",
              "            await google.colab.kernel.invokeFunction('convertToInteractive',\n",
              "                                                     [key], {});\n",
              "          if (!dataTable) return;\n",
              "\n",
              "          const docLinkHtml = 'Like what you see? Visit the ' +\n",
              "            '<a target=\"_blank\" href=https://colab.research.google.com/notebooks/data_table.ipynb>data table notebook</a>'\n",
              "            + ' to learn more about interactive tables.';\n",
              "          element.innerHTML = '';\n",
              "          dataTable['output_type'] = 'display_data';\n",
              "          await google.colab.output.renderOutput(dataTable, element);\n",
              "          const docLink = document.createElement('div');\n",
              "          docLink.innerHTML = docLinkHtml;\n",
              "          element.appendChild(docLink);\n",
              "        }\n",
              "      </script>\n",
              "    </div>\n",
              "  </div>\n",
              "  "
            ]
          },
          "metadata": {},
          "execution_count": 144
        }
      ]
    },
    {
      "cell_type": "code",
      "source": [
        "tug['CN_ratio'] = (tug.CN / tug[['CN','US']].fillna(0).sum(axis=1)) *100\n",
        "tug['US_ratio'] = (tug.US / tug[['CN','US']].fillna(0).sum(axis=1)) *100"
      ],
      "metadata": {
        "id": "jP8KfvH47wrE"
      },
      "execution_count": 149,
      "outputs": []
    },
    {
      "cell_type": "code",
      "source": [
        "tug.loc[(2021, 'JP','日本')]"
      ],
      "metadata": {
        "colab": {
          "base_uri": "https://localhost:8080/"
        },
        "id": "8TdtszD59CUO",
        "outputId": "573015ba-5f5e-432b-ab4b-c6a838dea2c6"
      },
      "execution_count": 150,
      "outputs": [
        {
          "output_type": "execute_result",
          "data": {
            "text/plain": [
              "counterpart_code\n",
              "CN          348844.56412500\n",
              "US          218438.52267500\n",
              "CN_ratio        61.49391234\n",
              "US_ratio        38.50608766\n",
              "Name: (2021, JP, 日本), dtype: float64"
            ]
          },
          "metadata": {},
          "execution_count": 150
        }
      ]
    },
    {
      "cell_type": "code",
      "source": [
        "tug.loc[(2021, 'DE','ドイツ')]"
      ],
      "metadata": {
        "colab": {
          "base_uri": "https://localhost:8080/"
        },
        "id": "Yv3dkj2BUXmR",
        "outputId": "7fb6a3bf-4d3c-4cd2-c87e-ca2d08cd3366"
      },
      "execution_count": 151,
      "outputs": [
        {
          "output_type": "execute_result",
          "data": {
            "text/plain": [
              "counterpart_code\n",
              "CN          239682.33451600\n",
              "US          208594.64460600\n",
              "CN_ratio        53.46746446\n",
              "US_ratio        46.53253554\n",
              "Name: (2021, DE, ドイツ), dtype: float64"
            ]
          },
          "metadata": {},
          "execution_count": 151
        }
      ]
    },
    {
      "cell_type": "code",
      "source": [
        "tug = tug.reset_index().rename_axis('',axis=1)\n",
        "tug['code3'] = tug.code.map(areas.set_index('code').code3.to_dict())\n",
        "#tug = tug.set_index(['code3','year'])"
      ],
      "metadata": {
        "id": "HtR43gZO99SN"
      },
      "execution_count": 154,
      "outputs": []
    },
    {
      "cell_type": "code",
      "source": [
        "tug.head()"
      ],
      "metadata": {
        "colab": {
          "base_uri": "https://localhost:8080/",
          "height": 206
        },
        "id": "x9OdaKIOf5_9",
        "outputId": "52d950fe-5081-47a5-96fd-75484d4278fa"
      },
      "execution_count": 155,
      "outputs": [
        {
          "output_type": "execute_result",
          "data": {
            "text/plain": [
              "   year code     name_ja     CN      US    CN_ratio      US_ratio code3\n",
              "0  1948   AN  オランダ領アンティル   0.11  127.03  0.08651880   99.91348120   ANT\n",
              "1  1948   AO        アンゴラ    NaN   13.20         NaN  100.00000000   AGO\n",
              "2  1948   AR      アルゼンチン    NaN  763.10         NaN  100.00000000   ARG\n",
              "3  1948   AT      オーストリア   0.80  282.50  0.28238616   99.71761384   AUT\n",
              "4  1948   AU     オーストラリア  16.22  268.79  5.69102838   94.30897162   AUS"
            ],
            "text/html": [
              "\n",
              "  <div id=\"df-bda6dcff-7853-4ce2-b8fd-4f45a29e13a7\">\n",
              "    <div class=\"colab-df-container\">\n",
              "      <div>\n",
              "<style scoped>\n",
              "    .dataframe tbody tr th:only-of-type {\n",
              "        vertical-align: middle;\n",
              "    }\n",
              "\n",
              "    .dataframe tbody tr th {\n",
              "        vertical-align: top;\n",
              "    }\n",
              "\n",
              "    .dataframe thead th {\n",
              "        text-align: right;\n",
              "    }\n",
              "</style>\n",
              "<table border=\"1\" class=\"dataframe\">\n",
              "  <thead>\n",
              "    <tr style=\"text-align: right;\">\n",
              "      <th></th>\n",
              "      <th>year</th>\n",
              "      <th>code</th>\n",
              "      <th>name_ja</th>\n",
              "      <th>CN</th>\n",
              "      <th>US</th>\n",
              "      <th>CN_ratio</th>\n",
              "      <th>US_ratio</th>\n",
              "      <th>code3</th>\n",
              "    </tr>\n",
              "  </thead>\n",
              "  <tbody>\n",
              "    <tr>\n",
              "      <th>0</th>\n",
              "      <td>1948</td>\n",
              "      <td>AN</td>\n",
              "      <td>オランダ領アンティル</td>\n",
              "      <td>0.11</td>\n",
              "      <td>127.03</td>\n",
              "      <td>0.08651880</td>\n",
              "      <td>99.91348120</td>\n",
              "      <td>ANT</td>\n",
              "    </tr>\n",
              "    <tr>\n",
              "      <th>1</th>\n",
              "      <td>1948</td>\n",
              "      <td>AO</td>\n",
              "      <td>アンゴラ</td>\n",
              "      <td>NaN</td>\n",
              "      <td>13.20</td>\n",
              "      <td>NaN</td>\n",
              "      <td>100.00000000</td>\n",
              "      <td>AGO</td>\n",
              "    </tr>\n",
              "    <tr>\n",
              "      <th>2</th>\n",
              "      <td>1948</td>\n",
              "      <td>AR</td>\n",
              "      <td>アルゼンチン</td>\n",
              "      <td>NaN</td>\n",
              "      <td>763.10</td>\n",
              "      <td>NaN</td>\n",
              "      <td>100.00000000</td>\n",
              "      <td>ARG</td>\n",
              "    </tr>\n",
              "    <tr>\n",
              "      <th>3</th>\n",
              "      <td>1948</td>\n",
              "      <td>AT</td>\n",
              "      <td>オーストリア</td>\n",
              "      <td>0.80</td>\n",
              "      <td>282.50</td>\n",
              "      <td>0.28238616</td>\n",
              "      <td>99.71761384</td>\n",
              "      <td>AUT</td>\n",
              "    </tr>\n",
              "    <tr>\n",
              "      <th>4</th>\n",
              "      <td>1948</td>\n",
              "      <td>AU</td>\n",
              "      <td>オーストラリア</td>\n",
              "      <td>16.22</td>\n",
              "      <td>268.79</td>\n",
              "      <td>5.69102838</td>\n",
              "      <td>94.30897162</td>\n",
              "      <td>AUS</td>\n",
              "    </tr>\n",
              "  </tbody>\n",
              "</table>\n",
              "</div>\n",
              "      <button class=\"colab-df-convert\" onclick=\"convertToInteractive('df-bda6dcff-7853-4ce2-b8fd-4f45a29e13a7')\"\n",
              "              title=\"Convert this dataframe to an interactive table.\"\n",
              "              style=\"display:none;\">\n",
              "        \n",
              "  <svg xmlns=\"http://www.w3.org/2000/svg\" height=\"24px\"viewBox=\"0 0 24 24\"\n",
              "       width=\"24px\">\n",
              "    <path d=\"M0 0h24v24H0V0z\" fill=\"none\"/>\n",
              "    <path d=\"M18.56 5.44l.94 2.06.94-2.06 2.06-.94-2.06-.94-.94-2.06-.94 2.06-2.06.94zm-11 1L8.5 8.5l.94-2.06 2.06-.94-2.06-.94L8.5 2.5l-.94 2.06-2.06.94zm10 10l.94 2.06.94-2.06 2.06-.94-2.06-.94-.94-2.06-.94 2.06-2.06.94z\"/><path d=\"M17.41 7.96l-1.37-1.37c-.4-.4-.92-.59-1.43-.59-.52 0-1.04.2-1.43.59L10.3 9.45l-7.72 7.72c-.78.78-.78 2.05 0 2.83L4 21.41c.39.39.9.59 1.41.59.51 0 1.02-.2 1.41-.59l7.78-7.78 2.81-2.81c.8-.78.8-2.07 0-2.86zM5.41 20L4 18.59l7.72-7.72 1.47 1.35L5.41 20z\"/>\n",
              "  </svg>\n",
              "      </button>\n",
              "      \n",
              "  <style>\n",
              "    .colab-df-container {\n",
              "      display:flex;\n",
              "      flex-wrap:wrap;\n",
              "      gap: 12px;\n",
              "    }\n",
              "\n",
              "    .colab-df-convert {\n",
              "      background-color: #E8F0FE;\n",
              "      border: none;\n",
              "      border-radius: 50%;\n",
              "      cursor: pointer;\n",
              "      display: none;\n",
              "      fill: #1967D2;\n",
              "      height: 32px;\n",
              "      padding: 0 0 0 0;\n",
              "      width: 32px;\n",
              "    }\n",
              "\n",
              "    .colab-df-convert:hover {\n",
              "      background-color: #E2EBFA;\n",
              "      box-shadow: 0px 1px 2px rgba(60, 64, 67, 0.3), 0px 1px 3px 1px rgba(60, 64, 67, 0.15);\n",
              "      fill: #174EA6;\n",
              "    }\n",
              "\n",
              "    [theme=dark] .colab-df-convert {\n",
              "      background-color: #3B4455;\n",
              "      fill: #D2E3FC;\n",
              "    }\n",
              "\n",
              "    [theme=dark] .colab-df-convert:hover {\n",
              "      background-color: #434B5C;\n",
              "      box-shadow: 0px 1px 3px 1px rgba(0, 0, 0, 0.15);\n",
              "      filter: drop-shadow(0px 1px 2px rgba(0, 0, 0, 0.3));\n",
              "      fill: #FFFFFF;\n",
              "    }\n",
              "  </style>\n",
              "\n",
              "      <script>\n",
              "        const buttonEl =\n",
              "          document.querySelector('#df-bda6dcff-7853-4ce2-b8fd-4f45a29e13a7 button.colab-df-convert');\n",
              "        buttonEl.style.display =\n",
              "          google.colab.kernel.accessAllowed ? 'block' : 'none';\n",
              "\n",
              "        async function convertToInteractive(key) {\n",
              "          const element = document.querySelector('#df-bda6dcff-7853-4ce2-b8fd-4f45a29e13a7');\n",
              "          const dataTable =\n",
              "            await google.colab.kernel.invokeFunction('convertToInteractive',\n",
              "                                                     [key], {});\n",
              "          if (!dataTable) return;\n",
              "\n",
              "          const docLinkHtml = 'Like what you see? Visit the ' +\n",
              "            '<a target=\"_blank\" href=https://colab.research.google.com/notebooks/data_table.ipynb>data table notebook</a>'\n",
              "            + ' to learn more about interactive tables.';\n",
              "          element.innerHTML = '';\n",
              "          dataTable['output_type'] = 'display_data';\n",
              "          await google.colab.output.renderOutput(dataTable, element);\n",
              "          const docLink = document.createElement('div');\n",
              "          docLink.innerHTML = docLinkHtml;\n",
              "          element.appendChild(docLink);\n",
              "        }\n",
              "      </script>\n",
              "    </div>\n",
              "  </div>\n",
              "  "
            ]
          },
          "metadata": {},
          "execution_count": 155
        }
      ]
    },
    {
      "cell_type": "markdown",
      "source": [
        "GDPデータを追加<br>\n",
        "①IMF"
      ],
      "metadata": {
        "id": "mojzxIHsdBOP"
      }
    },
    {
      "cell_type": "code",
      "source": [
        "#source 1: WEO\n",
        "url = 'https://www.imf.org/-/media/Files/Publications/WEO/WEO-Database/2022/WEOOct2022all.ashx'\n",
        "r = requests.get(url)\n",
        "\n",
        "with open('weo2022.xls', 'wb') as f:\n",
        "    f.write(r.content)\n",
        "\n",
        "weo = pd.read_csv('weo2022.xls', sep='\\t', thousands=',', na_values=['n/a', '--'], encoding='windows-1252') "
      ],
      "metadata": {
        "id": "FgAAxVyYJ9I1"
      },
      "execution_count": 156,
      "outputs": []
    },
    {
      "cell_type": "code",
      "source": [
        "#nominal GDP\n",
        "weo_ngdp = weo[weo['WEO Subject Code']=='NGDPD'].rename(columns ={'ISO':'code3'} )\n",
        "weo_ngdp = weo_ngdp.set_index('code3').loc[:,'1980':'2022'].rename_axis('year', axis=1).unstack().rename('NGDP').reset_index()\n",
        "weo_ngdp.year = weo_ngdp.year.astype(int)\n",
        "weo_ngdp.NGDP = weo_ngdp.NGDP.astype(float) *1000   #unit USD billions-->USD millions"
      ],
      "metadata": {
        "id": "IgG3AXMGdEJm"
      },
      "execution_count": 157,
      "outputs": []
    },
    {
      "cell_type": "code",
      "source": [
        "tug = tug.merge(weo_ngdp, on=['year','code3'], how='left')"
      ],
      "metadata": {
        "id": "UW8GDkwrfEjt"
      },
      "execution_count": 158,
      "outputs": []
    },
    {
      "cell_type": "markdown",
      "source": [
        "②UN（旧ソ連などformer countries用）<br>\n",
        "https://unstats.un.org/unsd/snaama/downloads"
      ],
      "metadata": {
        "id": "aWqgD8xbZ3vm"
      }
    },
    {
      "cell_type": "code",
      "source": [
        "#GDP and its breakdown at current prices in US Dollars\n",
        "url = 'https://unstats.un.org/unsd/amaapi/api/file/2'\n",
        "r = requests.get(url)\n",
        "with open('un_current.xls', 'wb') as f:\n",
        "    f.write(r.content)\n",
        "\n",
        "un = pd.read_excel('un_current.xls', header=2)"
      ],
      "metadata": {
        "id": "_tsohBenTn90"
      },
      "execution_count": 159,
      "outputs": []
    },
    {
      "cell_type": "code",
      "source": [
        "#GDP and its breakdown at constant 2015 prices in US Dollars\n",
        "#url = 'https://unstats.un.org/unsd/amaapi/api/file/6'"
      ],
      "metadata": {
        "id": "dkfvCCFecE-i"
      },
      "execution_count": 160,
      "outputs": []
    },
    {
      "cell_type": "code",
      "source": [
        "#unit = USD\n",
        "un[(un.IndicatorName=='Gross Domestic Product (GDP)')&(un.Country=='Japan')][2020] /1000000000000"
      ],
      "metadata": {
        "colab": {
          "base_uri": "https://localhost:8080/"
        },
        "id": "4W8aMV_St3aD",
        "outputId": "4b39beef-45d0-45ef-e10c-e58786aa7f62"
      },
      "execution_count": 161,
      "outputs": [
        {
          "output_type": "execute_result",
          "data": {
            "text/plain": [
              "1676    5.05775896\n",
              "Name: 2020, dtype: float64"
            ]
          },
          "metadata": {},
          "execution_count": 161
        }
      ]
    },
    {
      "cell_type": "code",
      "source": [
        "un = un[(un.IndicatorName=='Gross Domestic Product (GDP)')].set_index('Country')"
      ],
      "metadata": {
        "id": "dtlq7U6XuqfK"
      },
      "execution_count": 162,
      "outputs": []
    },
    {
      "cell_type": "code",
      "source": [
        "un = un.loc[:,1970:].rename_axis('year',axis=1).unstack().rename('UNGDP').reset_index()"
      ],
      "metadata": {
        "id": "rt2r8Huzuqif"
      },
      "execution_count": 163,
      "outputs": []
    },
    {
      "cell_type": "code",
      "source": [
        "#unit = millionに変更\n",
        "un.UNGDP = un.UNGDP.astype(float) / 1000000"
      ],
      "metadata": {
        "id": "4dhKbYFbvhqT"
      },
      "execution_count": 164,
      "outputs": []
    },
    {
      "cell_type": "code",
      "source": [
        "#former countries\n",
        "un.loc[un.Country=='USSR (Former)','code'] = 'SUH'\n",
        "un.loc[un.Country=='Czechoslovakia (Former)','code'] = 'CSH'\n",
        "un.loc[un.Country=='Yemen Arab Republic (Former)','code'] = '1C_473'\n",
        "un.loc[un.Country=='Yemen Democratic (Former)','code'] = '1C_459'\n",
        "un.loc[un.Country=='Yugoslavia (Former)','code'] = 'YUC'\n",
        "\n",
        "#no data available\n",
        "#un[un.Country.str.contains('Germany', case=False)].Country.unique()\n",
        "#un.loc[un.Country.str.contains('Serbia', case=False)].Country.unique()"
      ],
      "metadata": {
        "id": "NmuHQLEywSpx"
      },
      "execution_count": 165,
      "outputs": []
    },
    {
      "cell_type": "code",
      "source": [
        "un_former = un.loc[~un.code.isna(),['code','year','UNGDP']]"
      ],
      "metadata": {
        "id": "An8SDTBqtWTS"
      },
      "execution_count": 166,
      "outputs": []
    },
    {
      "cell_type": "code",
      "source": [
        "tug = tug.merge(un_former,on=['code','year'],how='left')"
      ],
      "metadata": {
        "id": "4M71hWg-y1KE"
      },
      "execution_count": 167,
      "outputs": []
    },
    {
      "cell_type": "code",
      "source": [
        "tug['GDP'] = tug[['NGDP','UNGDP']].ffill(axis=1).UNGDP"
      ],
      "metadata": {
        "id": "5MnDexl0zZ9o"
      },
      "execution_count": 168,
      "outputs": []
    },
    {
      "cell_type": "markdown",
      "source": [
        "米中間の表示位置"
      ],
      "metadata": {
        "id": "irBCuHJx8yvd"
      }
    },
    {
      "cell_type": "code",
      "source": [
        "#flourishの表示用\n",
        "tug['ratio'] = 100 - tug.US_ratio\n",
        "tug['ratio'] = tug[['CN_ratio','ratio']].ffill(axis=1).ratio\n",
        "\n",
        "#USとCN本体の位置を調整（仮置き）\n",
        "tug.loc[tug.code=='US','ratio'] = -20\n",
        "tug.loc[tug.code=='CN','ratio'] = 120"
      ],
      "metadata": {
        "id": "q_mD7d-12owu"
      },
      "execution_count": 169,
      "outputs": []
    },
    {
      "cell_type": "code",
      "source": [
        "tug[(tug.CN.isna())&(tug.US.isna())&(tug.ratio.isin([0,100]))]"
      ],
      "metadata": {
        "colab": {
          "base_uri": "https://localhost:8080/",
          "height": 49
        },
        "id": "9_uWbQUQ4GYV",
        "outputId": "13d67ce6-aa63-4419-ea51-3af6bcf3c816"
      },
      "execution_count": 170,
      "outputs": [
        {
          "output_type": "execute_result",
          "data": {
            "text/plain": [
              "Empty DataFrame\n",
              "Columns: [year, code, name_ja, CN, US, CN_ratio, US_ratio, code3, NGDP, UNGDP, GDP, ratio]\n",
              "Index: []"
            ],
            "text/html": [
              "\n",
              "  <div id=\"df-5e3ea9d9-69f9-46a9-9095-2d940ae76290\">\n",
              "    <div class=\"colab-df-container\">\n",
              "      <div>\n",
              "<style scoped>\n",
              "    .dataframe tbody tr th:only-of-type {\n",
              "        vertical-align: middle;\n",
              "    }\n",
              "\n",
              "    .dataframe tbody tr th {\n",
              "        vertical-align: top;\n",
              "    }\n",
              "\n",
              "    .dataframe thead th {\n",
              "        text-align: right;\n",
              "    }\n",
              "</style>\n",
              "<table border=\"1\" class=\"dataframe\">\n",
              "  <thead>\n",
              "    <tr style=\"text-align: right;\">\n",
              "      <th></th>\n",
              "      <th>year</th>\n",
              "      <th>code</th>\n",
              "      <th>name_ja</th>\n",
              "      <th>CN</th>\n",
              "      <th>US</th>\n",
              "      <th>CN_ratio</th>\n",
              "      <th>US_ratio</th>\n",
              "      <th>code3</th>\n",
              "      <th>NGDP</th>\n",
              "      <th>UNGDP</th>\n",
              "      <th>GDP</th>\n",
              "      <th>ratio</th>\n",
              "    </tr>\n",
              "  </thead>\n",
              "  <tbody>\n",
              "  </tbody>\n",
              "</table>\n",
              "</div>\n",
              "      <button class=\"colab-df-convert\" onclick=\"convertToInteractive('df-5e3ea9d9-69f9-46a9-9095-2d940ae76290')\"\n",
              "              title=\"Convert this dataframe to an interactive table.\"\n",
              "              style=\"display:none;\">\n",
              "        \n",
              "  <svg xmlns=\"http://www.w3.org/2000/svg\" height=\"24px\"viewBox=\"0 0 24 24\"\n",
              "       width=\"24px\">\n",
              "    <path d=\"M0 0h24v24H0V0z\" fill=\"none\"/>\n",
              "    <path d=\"M18.56 5.44l.94 2.06.94-2.06 2.06-.94-2.06-.94-.94-2.06-.94 2.06-2.06.94zm-11 1L8.5 8.5l.94-2.06 2.06-.94-2.06-.94L8.5 2.5l-.94 2.06-2.06.94zm10 10l.94 2.06.94-2.06 2.06-.94-2.06-.94-.94-2.06-.94 2.06-2.06.94z\"/><path d=\"M17.41 7.96l-1.37-1.37c-.4-.4-.92-.59-1.43-.59-.52 0-1.04.2-1.43.59L10.3 9.45l-7.72 7.72c-.78.78-.78 2.05 0 2.83L4 21.41c.39.39.9.59 1.41.59.51 0 1.02-.2 1.41-.59l7.78-7.78 2.81-2.81c.8-.78.8-2.07 0-2.86zM5.41 20L4 18.59l7.72-7.72 1.47 1.35L5.41 20z\"/>\n",
              "  </svg>\n",
              "      </button>\n",
              "      \n",
              "  <style>\n",
              "    .colab-df-container {\n",
              "      display:flex;\n",
              "      flex-wrap:wrap;\n",
              "      gap: 12px;\n",
              "    }\n",
              "\n",
              "    .colab-df-convert {\n",
              "      background-color: #E8F0FE;\n",
              "      border: none;\n",
              "      border-radius: 50%;\n",
              "      cursor: pointer;\n",
              "      display: none;\n",
              "      fill: #1967D2;\n",
              "      height: 32px;\n",
              "      padding: 0 0 0 0;\n",
              "      width: 32px;\n",
              "    }\n",
              "\n",
              "    .colab-df-convert:hover {\n",
              "      background-color: #E2EBFA;\n",
              "      box-shadow: 0px 1px 2px rgba(60, 64, 67, 0.3), 0px 1px 3px 1px rgba(60, 64, 67, 0.15);\n",
              "      fill: #174EA6;\n",
              "    }\n",
              "\n",
              "    [theme=dark] .colab-df-convert {\n",
              "      background-color: #3B4455;\n",
              "      fill: #D2E3FC;\n",
              "    }\n",
              "\n",
              "    [theme=dark] .colab-df-convert:hover {\n",
              "      background-color: #434B5C;\n",
              "      box-shadow: 0px 1px 3px 1px rgba(0, 0, 0, 0.15);\n",
              "      filter: drop-shadow(0px 1px 2px rgba(0, 0, 0, 0.3));\n",
              "      fill: #FFFFFF;\n",
              "    }\n",
              "  </style>\n",
              "\n",
              "      <script>\n",
              "        const buttonEl =\n",
              "          document.querySelector('#df-5e3ea9d9-69f9-46a9-9095-2d940ae76290 button.colab-df-convert');\n",
              "        buttonEl.style.display =\n",
              "          google.colab.kernel.accessAllowed ? 'block' : 'none';\n",
              "\n",
              "        async function convertToInteractive(key) {\n",
              "          const element = document.querySelector('#df-5e3ea9d9-69f9-46a9-9095-2d940ae76290');\n",
              "          const dataTable =\n",
              "            await google.colab.kernel.invokeFunction('convertToInteractive',\n",
              "                                                     [key], {});\n",
              "          if (!dataTable) return;\n",
              "\n",
              "          const docLinkHtml = 'Like what you see? Visit the ' +\n",
              "            '<a target=\"_blank\" href=https://colab.research.google.com/notebooks/data_table.ipynb>data table notebook</a>'\n",
              "            + ' to learn more about interactive tables.';\n",
              "          element.innerHTML = '';\n",
              "          dataTable['output_type'] = 'display_data';\n",
              "          await google.colab.output.renderOutput(dataTable, element);\n",
              "          const docLink = document.createElement('div');\n",
              "          docLink.innerHTML = docLinkHtml;\n",
              "          element.appendChild(docLink);\n",
              "        }\n",
              "      </script>\n",
              "    </div>\n",
              "  </div>\n",
              "  "
            ]
          },
          "metadata": {},
          "execution_count": 170
        }
      ]
    },
    {
      "cell_type": "markdown",
      "source": [
        "image(country flags)"
      ],
      "metadata": {
        "id": "0GKSOnb49Gc8"
      }
    },
    {
      "cell_type": "code",
      "source": [
        "tug['image'] = tug.code.apply(lambda x: f'https://hatscripts.github.io/circle-flags/flags/{x.lower()}.svg')"
      ],
      "metadata": {
        "id": "6w9nknZZ2W3u"
      },
      "execution_count": 171,
      "outputs": []
    },
    {
      "cell_type": "code",
      "source": [
        "#image not available\n",
        "null = ['AN', 'CSH', 'YUC', 'DE2', 'SUH', '1C_459', '1C_473', 'CS']\n",
        "tug.loc[tug.code.isin(null),'image'] = np.nan"
      ],
      "metadata": {
        "id": "YSrL1LyO7oJv"
      },
      "execution_count": 172,
      "outputs": []
    },
    {
      "cell_type": "code",
      "source": [
        "tug.to_csv('tug_o_war.csv',index=False)"
      ],
      "metadata": {
        "id": "wCvetpfV_hUu"
      },
      "execution_count": 173,
      "outputs": []
    },
    {
      "cell_type": "code",
      "source": [
        "#プレゼン用のデータ仮出し\n",
        "for year in list(np.arange(1950,2022,5)) + [2021]:\n",
        "  filename = f'tug_o_war_{year}.csv'\n",
        "  tug[tug.year==year].to_csv(filename)"
      ],
      "metadata": {
        "id": "FOy0QFAnA-sp"
      },
      "execution_count": 174,
      "outputs": []
    },
    {
      "cell_type": "code",
      "source": [
        "un[un.Country.str.contains('China', case=False)]"
      ],
      "metadata": {
        "colab": {
          "base_uri": "https://localhost:8080/",
          "height": 424
        },
        "id": "niyoYNdwBdQv",
        "outputId": "435594d0-ea3a-483c-e33a-06e7f6c59c7b"
      },
      "execution_count": 175,
      "outputs": [
        {
          "output_type": "execute_result",
          "data": {
            "text/plain": [
              "       year               Country           UNGDP code\n",
              "40     1970                 China  9.26026178e+04  NaN\n",
              "41     1970  China, Hong Kong SAR  3.81249381e+03  NaN\n",
              "42     1970      China, Macao SAR  1.69026522e+02  NaN\n",
              "260    1971                 China  9.98005753e+04  NaN\n",
              "261    1971  China, Hong Kong SAR  4.46139945e+03  NaN\n",
              "...     ...                   ...             ...  ...\n",
              "10821  2019  China, Hong Kong SAR  3.65708203e+05  NaN\n",
              "10822  2019      China, Macao SAR  5.51539107e+04  NaN\n",
              "11040  2020                 China  1.47228005e+07  NaN\n",
              "11041  2020  China, Hong Kong SAR  3.49444713e+05  NaN\n",
              "11042  2020      China, Macao SAR  2.43330196e+04  NaN\n",
              "\n",
              "[153 rows x 4 columns]"
            ],
            "text/html": [
              "\n",
              "  <div id=\"df-6f6b20a2-d526-48b2-832c-de6c2fc1f200\">\n",
              "    <div class=\"colab-df-container\">\n",
              "      <div>\n",
              "<style scoped>\n",
              "    .dataframe tbody tr th:only-of-type {\n",
              "        vertical-align: middle;\n",
              "    }\n",
              "\n",
              "    .dataframe tbody tr th {\n",
              "        vertical-align: top;\n",
              "    }\n",
              "\n",
              "    .dataframe thead th {\n",
              "        text-align: right;\n",
              "    }\n",
              "</style>\n",
              "<table border=\"1\" class=\"dataframe\">\n",
              "  <thead>\n",
              "    <tr style=\"text-align: right;\">\n",
              "      <th></th>\n",
              "      <th>year</th>\n",
              "      <th>Country</th>\n",
              "      <th>UNGDP</th>\n",
              "      <th>code</th>\n",
              "    </tr>\n",
              "  </thead>\n",
              "  <tbody>\n",
              "    <tr>\n",
              "      <th>40</th>\n",
              "      <td>1970</td>\n",
              "      <td>China</td>\n",
              "      <td>9.26026178e+04</td>\n",
              "      <td>NaN</td>\n",
              "    </tr>\n",
              "    <tr>\n",
              "      <th>41</th>\n",
              "      <td>1970</td>\n",
              "      <td>China, Hong Kong SAR</td>\n",
              "      <td>3.81249381e+03</td>\n",
              "      <td>NaN</td>\n",
              "    </tr>\n",
              "    <tr>\n",
              "      <th>42</th>\n",
              "      <td>1970</td>\n",
              "      <td>China, Macao SAR</td>\n",
              "      <td>1.69026522e+02</td>\n",
              "      <td>NaN</td>\n",
              "    </tr>\n",
              "    <tr>\n",
              "      <th>260</th>\n",
              "      <td>1971</td>\n",
              "      <td>China</td>\n",
              "      <td>9.98005753e+04</td>\n",
              "      <td>NaN</td>\n",
              "    </tr>\n",
              "    <tr>\n",
              "      <th>261</th>\n",
              "      <td>1971</td>\n",
              "      <td>China, Hong Kong SAR</td>\n",
              "      <td>4.46139945e+03</td>\n",
              "      <td>NaN</td>\n",
              "    </tr>\n",
              "    <tr>\n",
              "      <th>...</th>\n",
              "      <td>...</td>\n",
              "      <td>...</td>\n",
              "      <td>...</td>\n",
              "      <td>...</td>\n",
              "    </tr>\n",
              "    <tr>\n",
              "      <th>10821</th>\n",
              "      <td>2019</td>\n",
              "      <td>China, Hong Kong SAR</td>\n",
              "      <td>3.65708203e+05</td>\n",
              "      <td>NaN</td>\n",
              "    </tr>\n",
              "    <tr>\n",
              "      <th>10822</th>\n",
              "      <td>2019</td>\n",
              "      <td>China, Macao SAR</td>\n",
              "      <td>5.51539107e+04</td>\n",
              "      <td>NaN</td>\n",
              "    </tr>\n",
              "    <tr>\n",
              "      <th>11040</th>\n",
              "      <td>2020</td>\n",
              "      <td>China</td>\n",
              "      <td>1.47228005e+07</td>\n",
              "      <td>NaN</td>\n",
              "    </tr>\n",
              "    <tr>\n",
              "      <th>11041</th>\n",
              "      <td>2020</td>\n",
              "      <td>China, Hong Kong SAR</td>\n",
              "      <td>3.49444713e+05</td>\n",
              "      <td>NaN</td>\n",
              "    </tr>\n",
              "    <tr>\n",
              "      <th>11042</th>\n",
              "      <td>2020</td>\n",
              "      <td>China, Macao SAR</td>\n",
              "      <td>2.43330196e+04</td>\n",
              "      <td>NaN</td>\n",
              "    </tr>\n",
              "  </tbody>\n",
              "</table>\n",
              "<p>153 rows × 4 columns</p>\n",
              "</div>\n",
              "      <button class=\"colab-df-convert\" onclick=\"convertToInteractive('df-6f6b20a2-d526-48b2-832c-de6c2fc1f200')\"\n",
              "              title=\"Convert this dataframe to an interactive table.\"\n",
              "              style=\"display:none;\">\n",
              "        \n",
              "  <svg xmlns=\"http://www.w3.org/2000/svg\" height=\"24px\"viewBox=\"0 0 24 24\"\n",
              "       width=\"24px\">\n",
              "    <path d=\"M0 0h24v24H0V0z\" fill=\"none\"/>\n",
              "    <path d=\"M18.56 5.44l.94 2.06.94-2.06 2.06-.94-2.06-.94-.94-2.06-.94 2.06-2.06.94zm-11 1L8.5 8.5l.94-2.06 2.06-.94-2.06-.94L8.5 2.5l-.94 2.06-2.06.94zm10 10l.94 2.06.94-2.06 2.06-.94-2.06-.94-.94-2.06-.94 2.06-2.06.94z\"/><path d=\"M17.41 7.96l-1.37-1.37c-.4-.4-.92-.59-1.43-.59-.52 0-1.04.2-1.43.59L10.3 9.45l-7.72 7.72c-.78.78-.78 2.05 0 2.83L4 21.41c.39.39.9.59 1.41.59.51 0 1.02-.2 1.41-.59l7.78-7.78 2.81-2.81c.8-.78.8-2.07 0-2.86zM5.41 20L4 18.59l7.72-7.72 1.47 1.35L5.41 20z\"/>\n",
              "  </svg>\n",
              "      </button>\n",
              "      \n",
              "  <style>\n",
              "    .colab-df-container {\n",
              "      display:flex;\n",
              "      flex-wrap:wrap;\n",
              "      gap: 12px;\n",
              "    }\n",
              "\n",
              "    .colab-df-convert {\n",
              "      background-color: #E8F0FE;\n",
              "      border: none;\n",
              "      border-radius: 50%;\n",
              "      cursor: pointer;\n",
              "      display: none;\n",
              "      fill: #1967D2;\n",
              "      height: 32px;\n",
              "      padding: 0 0 0 0;\n",
              "      width: 32px;\n",
              "    }\n",
              "\n",
              "    .colab-df-convert:hover {\n",
              "      background-color: #E2EBFA;\n",
              "      box-shadow: 0px 1px 2px rgba(60, 64, 67, 0.3), 0px 1px 3px 1px rgba(60, 64, 67, 0.15);\n",
              "      fill: #174EA6;\n",
              "    }\n",
              "\n",
              "    [theme=dark] .colab-df-convert {\n",
              "      background-color: #3B4455;\n",
              "      fill: #D2E3FC;\n",
              "    }\n",
              "\n",
              "    [theme=dark] .colab-df-convert:hover {\n",
              "      background-color: #434B5C;\n",
              "      box-shadow: 0px 1px 3px 1px rgba(0, 0, 0, 0.15);\n",
              "      filter: drop-shadow(0px 1px 2px rgba(0, 0, 0, 0.3));\n",
              "      fill: #FFFFFF;\n",
              "    }\n",
              "  </style>\n",
              "\n",
              "      <script>\n",
              "        const buttonEl =\n",
              "          document.querySelector('#df-6f6b20a2-d526-48b2-832c-de6c2fc1f200 button.colab-df-convert');\n",
              "        buttonEl.style.display =\n",
              "          google.colab.kernel.accessAllowed ? 'block' : 'none';\n",
              "\n",
              "        async function convertToInteractive(key) {\n",
              "          const element = document.querySelector('#df-6f6b20a2-d526-48b2-832c-de6c2fc1f200');\n",
              "          const dataTable =\n",
              "            await google.colab.kernel.invokeFunction('convertToInteractive',\n",
              "                                                     [key], {});\n",
              "          if (!dataTable) return;\n",
              "\n",
              "          const docLinkHtml = 'Like what you see? Visit the ' +\n",
              "            '<a target=\"_blank\" href=https://colab.research.google.com/notebooks/data_table.ipynb>data table notebook</a>'\n",
              "            + ' to learn more about interactive tables.';\n",
              "          element.innerHTML = '';\n",
              "          dataTable['output_type'] = 'display_data';\n",
              "          await google.colab.output.renderOutput(dataTable, element);\n",
              "          const docLink = document.createElement('div');\n",
              "          docLink.innerHTML = docLinkHtml;\n",
              "          element.appendChild(docLink);\n",
              "        }\n",
              "      </script>\n",
              "    </div>\n",
              "  </div>\n",
              "  "
            ]
          },
          "metadata": {},
          "execution_count": 175
        }
      ]
    },
    {
      "cell_type": "code",
      "source": [
        "un.to_csv('un_gdp_USD_millions.csv')"
      ],
      "metadata": {
        "id": "vRhOz2KtD-eW"
      },
      "execution_count": 176,
      "outputs": []
    },
    {
      "cell_type": "code",
      "source": [
        "weo.to_csv('weo_nominal_gdp_USD_millions.csv')"
      ],
      "metadata": {
        "id": "HAZthLQmX_Ia"
      },
      "execution_count": 177,
      "outputs": []
    },
    {
      "cell_type": "code",
      "source": [
        "counterparts = df[df.indicator=='TXG_FOB_USD'].groupby(['year','name']).counterpart_name.count().reset_index().pivot(index='name',columns='year', values='counterpart_name')"
      ],
      "metadata": {
        "id": "uZ8tdaEHZsI8"
      },
      "execution_count": 178,
      "outputs": []
    },
    {
      "cell_type": "code",
      "source": [
        "#counterparts.to_excel('counterparts.xls')"
      ],
      "metadata": {
        "id": "ln0JBjQn_SNz",
        "colab": {
          "base_uri": "https://localhost:8080/"
        },
        "outputId": "4aee1726-069c-475b-d6a8-8799a1b4e465"
      },
      "execution_count": null,
      "outputs": [
        {
          "output_type": "stream",
          "name": "stderr",
          "text": [
            "/usr/local/lib/python3.7/dist-packages/ipykernel_launcher.py:1: FutureWarning: As the xlwt package is no longer maintained, the xlwt engine will be removed in a future version of pandas. This is the only engine in pandas that supports writing in the xls format. Install openpyxl and write to an xlsx file instead. You can set the option io.excel.xls.writer to 'xlwt' to silence this warning. While this option is deprecated and will also raise a warning, it can be globally set and the warning suppressed.\n",
            "  \"\"\"Entry point for launching an IPython kernel.\n"
          ]
        }
      ]
    }
  ]
}